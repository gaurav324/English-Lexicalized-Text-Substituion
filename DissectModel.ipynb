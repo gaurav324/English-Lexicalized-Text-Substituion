{
 "metadata": {
  "name": ""
 },
 "nbformat": 3,
 "nbformat_minor": 0,
 "worksheets": [
  {
   "cells": [
    {
     "cell_type": "code",
     "collapsed": false,
     "input": [
      "from composes.semantic_space.space import Space\n",
      "from composes.transformation.scaling.ppmi_weighting import PpmiWeighting\n",
      "from composes.transformation.dim_reduction.svd import Svd\n",
      "from composes.transformation.feature_selection.top_feature_selection import TopFeatureSelection\n",
      "from composes.similarity.cos import CosSimilarity\n",
      "from composes.similarity.dot_prod import DotProdSimilarity\n",
      "from composes.similarity.lin import LinSimilarity\n",
      "from composes.utils import io_utils\n",
      "from composes.utils import log_utils\n",
      "\n",
      "import spaceInherit\n",
      "from spaceInherit import MySpace\n",
      "\n",
      "import nltk\n",
      "from nltk.tag import pos_tag\n",
      "from nltk.tokenize import word_tokenize\n",
      "\n",
      "import operator\n",
      "from copy import deepcopy"
     ],
     "language": "python",
     "metadata": {},
     "outputs": [],
     "prompt_number": 132
    },
    {
     "cell_type": "code",
     "collapsed": false,
     "input": [
      "argv = ['/Users/gnanda/nlp/final_project/English-Lexicalized-Text-Substituion', '150'];\n",
      "data_path = argv[0] + \"/\" + argv[1] + \"_\"\n",
      "\n",
      "log_file = data_path + \"all.log\"\n",
      "core_cooccurrence_file = data_path + \"matrix_file_pos\"\n",
      "core_row_file = data_path + \"row_file_pos\"\n",
      "core_col_file = data_path + \"col_file_pos\"\n",
      "core_space_file = data_path + \"core.pkl\"\n"
     ],
     "language": "python",
     "metadata": {},
     "outputs": [],
     "prompt_number": 183
    },
    {
     "cell_type": "code",
     "collapsed": false,
     "input": [
      "core_space = MySpace.xbuild(data=core_cooccurrence_file, rows=core_row_file, cols=core_col_file, format=\"sm\")"
     ],
     "language": "python",
     "metadata": {},
     "outputs": [
      {
       "output_type": "stream",
       "stream": "stdout",
       "text": [
        "Progress...1000000\n",
        "Progress...2000000"
       ]
      },
      {
       "output_type": "stream",
       "stream": "stdout",
       "text": [
        "\n",
        "Progress...3000000"
       ]
      },
      {
       "output_type": "stream",
       "stream": "stdout",
       "text": [
        "\n",
        "Progress...4000000"
       ]
      },
      {
       "output_type": "stream",
       "stream": "stdout",
       "text": [
        "\n",
        "Progress...5000000"
       ]
      },
      {
       "output_type": "stream",
       "stream": "stdout",
       "text": [
        "\n",
        "Progress...6000000"
       ]
      },
      {
       "output_type": "stream",
       "stream": "stdout",
       "text": [
        "\n",
        "Progress...7000000"
       ]
      },
      {
       "output_type": "stream",
       "stream": "stdout",
       "text": [
        "\n",
        "Progress...8000000"
       ]
      },
      {
       "output_type": "stream",
       "stream": "stdout",
       "text": [
        "\n",
        "Progress...9000000"
       ]
      },
      {
       "output_type": "stream",
       "stream": "stdout",
       "text": [
        "\n",
        "Progress...10000000"
       ]
      },
      {
       "output_type": "stream",
       "stream": "stdout",
       "text": [
        "\n",
        "Progress...11000000"
       ]
      },
      {
       "output_type": "stream",
       "stream": "stdout",
       "text": [
        "\n",
        "Progress...12000000"
       ]
      },
      {
       "output_type": "stream",
       "stream": "stdout",
       "text": [
        "\n",
        "Progress...13000000"
       ]
      },
      {
       "output_type": "stream",
       "stream": "stdout",
       "text": [
        "\n",
        "Progress...14000000"
       ]
      },
      {
       "output_type": "stream",
       "stream": "stdout",
       "text": [
        "\n",
        "Progress...15000000"
       ]
      },
      {
       "output_type": "stream",
       "stream": "stdout",
       "text": [
        "\n",
        "Progress...16000000"
       ]
      },
      {
       "output_type": "stream",
       "stream": "stdout",
       "text": [
        "\n",
        "Progress...17000000"
       ]
      },
      {
       "output_type": "stream",
       "stream": "stdout",
       "text": [
        "\n",
        "Progress...18000000"
       ]
      },
      {
       "output_type": "stream",
       "stream": "stdout",
       "text": [
        "\n",
        "Progress...19000000"
       ]
      },
      {
       "output_type": "stream",
       "stream": "stdout",
       "text": [
        "\n",
        "Progress...20000000"
       ]
      },
      {
       "output_type": "stream",
       "stream": "stdout",
       "text": [
        "\n",
        "Progress...21000000"
       ]
      },
      {
       "output_type": "stream",
       "stream": "stdout",
       "text": [
        "\n",
        "Progress...22000000"
       ]
      },
      {
       "output_type": "stream",
       "stream": "stdout",
       "text": [
        "\n",
        "Progress...23000000"
       ]
      },
      {
       "output_type": "stream",
       "stream": "stdout",
       "text": [
        "\n",
        "Progress...24000000"
       ]
      },
      {
       "output_type": "stream",
       "stream": "stdout",
       "text": [
        "\n",
        "Progress...25000000"
       ]
      },
      {
       "output_type": "stream",
       "stream": "stdout",
       "text": [
        "\n",
        "Progress...26000000"
       ]
      },
      {
       "output_type": "stream",
       "stream": "stdout",
       "text": [
        "\n",
        "Progress...27000000"
       ]
      },
      {
       "output_type": "stream",
       "stream": "stdout",
       "text": [
        "\n",
        "Progress...28000000"
       ]
      },
      {
       "output_type": "stream",
       "stream": "stdout",
       "text": [
        "\n",
        "Progress...29000000"
       ]
      },
      {
       "output_type": "stream",
       "stream": "stdout",
       "text": [
        "\n",
        "Progress...30000000"
       ]
      },
      {
       "output_type": "stream",
       "stream": "stdout",
       "text": [
        "\n",
        "Progress...31000000"
       ]
      },
      {
       "output_type": "stream",
       "stream": "stdout",
       "text": [
        "\n",
        "Progress...32000000"
       ]
      },
      {
       "output_type": "stream",
       "stream": "stdout",
       "text": [
        "\n",
        "Progress...33000000"
       ]
      },
      {
       "output_type": "stream",
       "stream": "stdout",
       "text": [
        "\n",
        "Progress...34000000"
       ]
      },
      {
       "output_type": "stream",
       "stream": "stdout",
       "text": [
        "\n",
        "Progress...35000000"
       ]
      },
      {
       "output_type": "stream",
       "stream": "stdout",
       "text": [
        "\n",
        "Progress...36000000"
       ]
      },
      {
       "output_type": "stream",
       "stream": "stdout",
       "text": [
        "\n",
        "Progress...37000000"
       ]
      },
      {
       "output_type": "stream",
       "stream": "stdout",
       "text": [
        "\n",
        "Progress...38000000"
       ]
      },
      {
       "output_type": "stream",
       "stream": "stdout",
       "text": [
        "\n",
        "Progress...39000000"
       ]
      },
      {
       "output_type": "stream",
       "stream": "stdout",
       "text": [
        "\n",
        "Progress...40000000"
       ]
      },
      {
       "output_type": "stream",
       "stream": "stdout",
       "text": [
        "\n",
        "Progress...41000000"
       ]
      },
      {
       "output_type": "stream",
       "stream": "stdout",
       "text": [
        "\n",
        "Progress...42000000"
       ]
      },
      {
       "output_type": "stream",
       "stream": "stdout",
       "text": [
        "\n",
        "Progress...43000000"
       ]
      },
      {
       "output_type": "stream",
       "stream": "stdout",
       "text": [
        "\n",
        "Progress...44000000"
       ]
      },
      {
       "output_type": "stream",
       "stream": "stdout",
       "text": [
        "\n",
        "Progress...45000000"
       ]
      },
      {
       "output_type": "stream",
       "stream": "stdout",
       "text": [
        "\n"
       ]
      }
     ],
     "prompt_number": 184
    },
    {
     "cell_type": "code",
     "collapsed": false,
     "input": [
      "core_space_ppmi = core_space.apply(PpmiWeighting())\n",
      "core_space_ppmi_top_feature = core_space.apply(TopFeatureSelection(5000))\n",
      "\n"
     ],
     "language": "python",
     "metadata": {},
     "outputs": [],
     "prompt_number": 185
    },
    {
     "cell_type": "code",
     "collapsed": false,
     "input": [
      "important_tags = ['NN', 'NNS', 'VB', 'VBP', 'VBG', 'VBD', 'NNP', 'JJ', 'JJR', 'RB', 'N', 'PRP$', 'PRP', 'WDT']\n",
      "\n",
      "final_model = core_space_ppmi\n",
      "#final_model = final_model.apply(Svd(100))\n",
      "\n",
      "def get_imp_words(sentence):\n",
      "    tokens = filter(lambda x: x != -1, map(lambda x: x[0] if x[1] in important_tags else -1, nltk.pos_tag(nltk.word_tokenize(sentence))))\n",
      "    return tokens\n"
     ],
     "language": "python",
     "metadata": {},
     "outputs": [],
     "prompt_number": 186
    },
    {
     "cell_type": "code",
     "collapsed": false,
     "input": [
      "dot_sim = DotProdSimilarity()\n",
      "lin_sim = LinSimilarity()\n",
      "cos_sim = CosSimilarity()\n",
      "sim = cos_sim\n",
      "print nltk.pos_tag(nltk.word_tokenize(\"done as a selectman by being innovative and fixing the problems we have with cash flows\"))"
     ],
     "language": "python",
     "metadata": {},
     "outputs": [
      {
       "output_type": "stream",
       "stream": "stdout",
       "text": [
        "[('done', 'NN'), ('as', 'IN'), ('a', 'DT'), ('selectman', 'NN'), ('by', 'IN'), ('being', 'VBG'), ('innovative', 'JJ'), ('and', 'CC'), ('fixing', 'VBG'), ('the', 'DT'), ('problems', 'NNS'), ('we', 'PRP'), ('have', 'VBP'), ('with', 'IN'), ('cash', 'NN'), ('flows', 'NNS')]\n"
       ]
      }
     ],
     "prompt_number": 187
    },
    {
     "cell_type": "code",
     "collapsed": false,
     "input": [
      "def replace(sentence, word):\n",
      "    sentence = nltk.pos_tag(nltk.word_tokenize(\"done as a selectman by being innovative and fixing the problems we have with cash flows\"))\n",
      "    sentence = map(lambda x: x[0] + \"_\" + x[1], sentence)\n",
      "    print sentence\n",
      "    \n",
      "def replace_actual(sentence, word):\n",
      "    sentence = sentence.lower()\n",
      "    if word not in sentence:\n",
      "        return word + \" is not found in sentence\"\n",
      "    \n",
      "    # Get the context words. \n",
      "    imp_words = filter(lambda x: len(x)>2, get_imp_words(sentence))\n",
      "    index = imp_words.index(word)\n",
      "    \n",
      "    left = index - 2 if index - 2 >= 0 else 0\n",
      "    right = index + 3 if index + 3 <= len(imp_words) else len(imp_words)\n",
      "    \n",
      "    context_words = imp_words[left:index] + imp_words[index+1:right]\n",
      "    print context_words\n",
      "    \n",
      "    base_unison = None\n",
      "    for x in context_words:\n",
      "        try:\n",
      "            if base_unison is None:\n",
      "                base_unison = deepcopy(final_model.get_row(x))\n",
      "            else:\n",
      "                base_unison += final_model.get_row(x)\n",
      "                #base_unison = base_unison.multiply(final_model.get_row(x))\n",
      "        except KeyError, ex:\n",
      "            print \"Warning: \" + x + \" is not in entire corpus\" \n",
      "            pass\n",
      "    \n",
      "    z2 = base_unison + final_model.get_row(word)\n",
      "    #z2 = base_unison.multiply(final_model.get_row(word))\n",
      "    \n",
      "    results = {}\n",
      "    for replacement, xx in final_model.get_neighbours(word, 30, cos_sim):\n",
      "            if replacement in context_words:\n",
      "                continue\n",
      "            if word in replacement or replacement in word:\n",
      "                continue\n",
      "            \n",
      "            replacement_vector = final_model.get_row(replacement)\n",
      "            z1 =  base_unison + replacement_vector\n",
      "            #z1 = base_unison.multiply(replacement_vector)\n",
      "            \n",
      "            results[replacement] = cos_sim.get_sim(z1, z2)\n",
      "\n",
      "    print sorted(results.iteritems(), key=operator.itemgetter(1), reverse=True)[:30]"
     ],
     "language": "python",
     "metadata": {},
     "outputs": [],
     "prompt_number": 190
    },
    {
     "cell_type": "code",
     "collapsed": false,
     "input": [
      "replace(\"done as a selectman by being innovative and fixing the problems we have with cash flows\", \"fixing\")"
     ],
     "language": "python",
     "metadata": {},
     "outputs": [
      {
       "output_type": "stream",
       "stream": "stdout",
       "text": [
        "['done_NN', 'as_IN', 'a_DT', 'selectman_NN', 'by_IN', 'being_VBG', 'innovative_JJ', 'and_CC', 'fixing_VBG', 'the_DT', 'problems_NNS', 'we_PRP', 'have_VBP', 'with_IN', 'cash_NN', 'flows_NNS']\n"
       ]
      }
     ],
     "prompt_number": 191
    },
    {
     "cell_type": "code",
     "collapsed": false,
     "input": [
      "replace(\"The market is tight right now\", \"tight\")"
     ],
     "language": "python",
     "metadata": {},
     "outputs": [
      {
       "output_type": "stream",
       "stream": "stdout",
       "text": [
        "['market', 'right', 'now']\n",
        "[('baggy', 0.87163190668855006), ('strap', 0.84991932757435196), ('trousers', 0.84661626414045332), ('sleeves', 0.84439776525764776), ('jeans', 0.84334126053176761), ('skirt', 0.84235044540333881), ('waist', 0.84191179815772843), ('shorts', 0.83793862413550269), ('shirts', 0.83594564827142626), ('pants', 0.83139217348241212), ('shirt', 0.82560162341079335), ('fitting', 0.82462041888729587), ('jacket', 0.8227641114851183), ('matching', 0.81890007076971483), ('fit', 0.81222178881902252), ('loose', 0.81100242529015143), ('inside', 0.80764887918321815), ('length', 0.80365980446685481), ('narrow', 0.80201736087909326), ('leather', 0.80013430846157352), ('legs', 0.79980960572216298), ('wore', 0.79872677894795474), ('cut', 0.7972945014693622), ('neck', 0.7929177149563712), ('wear', 0.78383403731828216), ('wearing', 0.77725376481715913), ('black', 0.76715247130454856)]"
       ]
      },
      {
       "output_type": "stream",
       "stream": "stdout",
       "text": [
        "\n"
       ]
      }
     ],
     "prompt_number": 162
    },
    {
     "cell_type": "code",
     "collapsed": false,
     "input": [
      "replace(\"He is a bright student.\", \"bright\")"
     ],
     "language": "python",
     "metadata": {},
     "outputs": [
      {
       "output_type": "stream",
       "stream": "stdout",
       "text": [
        "['student']\n",
        "[('glow', 0.99179163926502312), ('dark', 0.98991439366629663), ('red', 0.987816045545168), ('pink', 0.98682726295266909), ('purple', 0.9841636507348186), ('blue', 0.9838048710910956), ('orange', 0.98150467852761392), ('green', 0.98107555617082198), ('shade', 0.98024848244021257), ('yellow', 0.97461654454650271), ('dull', 0.96984432396186471), ('pale', 0.96629149851810259), ('violet', 0.96293008474564989), ('hair', 0.96230175978519517), ('glowed', 0.94547638948370483)]"
       ]
      },
      {
       "output_type": "stream",
       "stream": "stdout",
       "text": [
        "\n"
       ]
      }
     ],
     "prompt_number": 145
    },
    {
     "cell_type": "code",
     "collapsed": false,
     "input": [
      "replace(\"done as a selectman by being innovative and fixing the problems we have with cash flows\", \"fixing\")"
     ],
     "language": "python",
     "metadata": {},
     "outputs": [
      {
       "output_type": "stream",
       "stream": "stdout",
       "text": [
        "['being', 'innovative', 'problems', 'have']\n",
        "[('experiences', 0.99608922647430265), ('respect', 0.99308263662228502), ('forth', 0.99141953987594944), ('ruin', 0.98606787811814289), ('account', 0.98572354795430894), ('frequently', 0.98372685863110043), ('detail', 0.97479933996049106), ('favor', 0.96770086412724221), ('escape', 0.96560006299460099), ('basis', 0.96118365144254003), ('well', 0.95957676040132378), ('overcome', 0.95588442857677491), ('trait', 0.95364705985561093), ('reference', 0.94467617060640485), ('notably', 0.93877846824774347)]"
       ]
      },
      {
       "output_type": "stream",
       "stream": "stdout",
       "text": [
        "\n"
       ]
      }
     ],
     "prompt_number": 151
    },
    {
     "cell_type": "code",
     "collapsed": false,
     "input": [
      "core_space_ppmi.get_neighbours(\"tight\", 30, cos_sim)"
     ],
     "language": "python",
     "metadata": {},
     "outputs": [
      {
       "metadata": {},
       "output_type": "pyout",
       "prompt_number": 159,
       "text": [
        "[('tight', 1.0),\n",
        " ('tighter', 0.17713323291838842),\n",
        " ('loose', 0.14313080180327181),\n",
        " ('wearing', 0.12648839327198041),\n",
        " ('wear', 0.12301257730401927),\n",
        " ('tightly', 0.11948040499178468),\n",
        " ('pants', 0.11672073211098592),\n",
        " ('sleeves', 0.11593835801787834),\n",
        " ('wore', 0.11160135829998931),\n",
        " ('jeans', 0.11139513493603249),\n",
        " ('skirt', 0.10994652379138896),\n",
        " ('waist', 0.10951629523334291),\n",
        " ('trousers', 0.10693758375799829),\n",
        " ('neck', 0.10614298192325344),\n",
        " ('shirt', 0.10576233248529197),\n",
        " ('narrow', 0.10400924784966294),\n",
        " ('baggy', 0.10357880409790393),\n",
        " ('shorts', 0.1033644596253756),\n",
        " ('fitting', 0.10229754387846383),\n",
        " ('inside', 0.10144152580794777),\n",
        " ('leather', 0.10128362012182855),\n",
        " ('jacket', 0.10070231828651716),\n",
        " ('length', 0.10015486690086937),\n",
        " ('strap', 0.10009435244883327),\n",
        " ('fit', 0.099646652975498295),\n",
        " ('black', 0.098894446139908623),\n",
        " ('legs', 0.098214114676008074),\n",
        " ('matching', 0.097944126619639998),\n",
        " ('shirts', 0.097639957528594043),\n",
        " ('cut', 0.097522845096175245)]"
       ]
      }
     ],
     "prompt_number": 159
    },
    {
     "cell_type": "code",
     "collapsed": false,
     "input": [
      "core_space_ppmi.get_neighbours(\"bright\", 30, cos_sim)"
     ],
     "language": "python",
     "metadata": {},
     "outputs": [
      {
       "metadata": {},
       "output_type": "pyout",
       "prompt_number": 182,
       "text": [
        "[('bright', 1.0),\n",
        " ('yellow', 0.21713492392894984),\n",
        " ('red', 0.19552465260064833),\n",
        " ('blue', 0.19139015846786284),\n",
        " ('orange', 0.18779112531629233),\n",
        " ('dark', 0.18718751474398271),\n",
        " ('green', 0.18688322572963689),\n",
        " ('pink', 0.18153638913637821),\n",
        " ('pale', 0.17691779192363841),\n",
        " ('purple', 0.17434502472987876),\n",
        " ('color', 0.17139333262079573),\n",
        " ('reddish', 0.16929017489399883),\n",
        " ('colors', 0.16894133532224218),\n",
        " ('light', 0.16832171317870456),\n",
        " ('yellowish', 0.16610792796609208),\n",
        " ('white', 0.16453545345901968),\n",
        " ('greenish', 0.16230067860404973),\n",
        " ('brown', 0.16192169703125731),\n",
        " ('brighter', 0.1589892497417188),\n",
        " ('black', 0.14919554992795489),\n",
        " ('coloration', 0.14682264001298065),\n",
        " ('brightly', 0.1434475813477924),\n",
        " ('bluish', 0.14284822528461319),\n",
        " ('underparts', 0.14273101202146612),\n",
        " ('metallic', 0.14237977033460103),\n",
        " ('translucent', 0.14105261302294936),\n",
        " ('eyes', 0.14036088084895815),\n",
        " ('darker', 0.14024067999057491),\n",
        " ('colorful', 0.13992390515795389),\n",
        " ('lights', 0.13863693407768296)]"
       ]
      }
     ],
     "prompt_number": 182
    },
    {
     "cell_type": "code",
     "collapsed": false,
     "input": [
      "core_space_ppmi.get_sim('correct', 'fix', cos_sim)"
     ],
     "language": "python",
     "metadata": {},
     "outputs": [
      {
       "metadata": {},
       "output_type": "pyout",
       "prompt_number": 181,
       "text": [
        "0.098622572055601029"
       ]
      }
     ],
     "prompt_number": 181
    },
    {
     "cell_type": "code",
     "collapsed": false,
     "input": [],
     "language": "python",
     "metadata": {},
     "outputs": []
    }
   ],
   "metadata": {}
  }
 ]
}