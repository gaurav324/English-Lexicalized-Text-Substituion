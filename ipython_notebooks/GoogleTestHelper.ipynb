{
 "metadata": {
  "name": "",
  "signature": "sha256:a87340e7b25b10d561b692eee92105df8203fa884e89100ba52ba84794ce0943"
 },
 "nbformat": 3,
 "nbformat_minor": 0,
 "worksheets": [
  {
   "cells": [
    {
     "cell_type": "code",
     "collapsed": false,
     "input": [
      "import nltk\n",
      "import operator\n",
      "import sys\n",
      "\n",
      "from lxml       import etree\n",
      "from optparse   import OptionParser\n",
      "\n",
      "from copy \t\timport deepcopy\n",
      "from gensim \t\timport \tutils, matutils\n",
      "from gensim.models \timport word2vec\n",
      "\n",
      "from nltk.corpus \timport wordnet as wn\n",
      "from nltk.tag \t\timport pos_tag\n",
      "from nltk.tokenize \timport word_tokenize\n",
      "from nltk.stem      \timport WordNetLemmatizer\n",
      "\n",
      "from numpy \t\timport dot, multiply, add\n"
     ],
     "language": "python",
     "metadata": {},
     "outputs": [],
     "prompt_number": 1
    },
    {
     "cell_type": "code",
     "collapsed": false,
     "input": [
      "final_model = word2vec.Word2Vec.load_word2vec_format('/Users/bansal/Desktop/NLP/Project/English-Lexicalized-Text-Substituion/GoogleNews-vectors-negative300.bin', binary=1)\n"
     ],
     "language": "python",
     "metadata": {},
     "outputs": [],
     "prompt_number": 2
    },
    {
     "cell_type": "code",
     "collapsed": false,
     "input": [
      "# List of tags, only which we consider are important. All other words dont add much to the context.\n",
      "important_tags = ['NN', 'NNS', 'VB', 'VBP', 'VBN', 'VBG', 'VBD', 'VBZ', 'NNP', 'JJ', 'JJR', 'JJS', 'RB', 'N', 'PRP$', 'PRP']\n",
      "\n",
      "###############################################################################\n",
      "# Helper functions.\n",
      "\n",
      "def get_wordnet_pos(treebank_tag):\n",
      "    \"\"\"\n",
      "    This function would return corresponding wordnet POS tag for \n",
      "    penn-tree bank POS tag.\n",
      "\n",
      "    \"\"\"\n",
      "    if treebank_tag.startswith('J'):\n",
      "        return wn.ADJ\n",
      "    elif treebank_tag.startswith('V'):\n",
      "        return wn.VERB\n",
      "    elif treebank_tag.startswith('N'):\n",
      "        return wn.NOUN\n",
      "    elif treebank_tag.startswith('R'):\n",
      "        return wn.ADV\n",
      "    else:\n",
      "        return None\n",
      "    \n",
      "def get_imp_words(tagged_sentence):\n",
      "    \"\"\"\n",
      "    This function would filter words in the sentence whose\n",
      "    tags don't belong to important tags list.\n",
      "\n",
      "    \"\"\"\n",
      "    tokens = filter(lambda x: x != None, map(lambda x: x if x[1] in important_tags else None, tagged_sentence))\n",
      "    #print tokens\n",
      "    return tokens\n",
      "\n",
      "def cosine(ww1, ww2):\n",
      "    return dot(matutils.unitvec(ww1), matutils.unitvec(ww2))\n",
      "\n",
      "###############################################################################\n",
      "# Replacement Helpers.\n",
      "\n",
      "def find_replacements_helper(imp_words, word, index, lwindow, rwindow, add):\n",
      "    \"\"\"\n",
      "    This function actually runs the model and find replacements for the word.\n",
      "\n",
      "    \"\"\"\n",
      "    #print word + \" \" + imp_words + \" \" + add\n",
      "\n",
      "    left = index - lwindow if index - lwindow >= 0 else 0\n",
      "    right = index + rwindow if index + rwindow <= len(imp_words) else len(imp_words)\n",
      "    \n",
      "    context_words = imp_words[left:index] + imp_words[index + 1:right]\n",
      "    #print context_words, word\n",
      "    # Gather all the context words in one vector.\n",
      "\n",
      "    base_unison = None\n",
      "    for x in context_words:\n",
      "        try:\n",
      "            if base_unison is None:\n",
      "                base_unison = deepcopy(final_model.syn0[final_model.vocab[x].index])\n",
      "            else:\n",
      "                if add:\n",
      "                    base_unison += final_model.syn0[final_model.vocab[x].index]\n",
      "                else:\n",
      "                    base_unison = multiply(base_unison, final_model.syn0[final_model.vocab[x].index])\n",
      "        except KeyError, ex:\n",
      "            print \"Warning: \" + x + \" is not in entire corpus\" \n",
      "            pass\n",
      "    \n",
      "    # Create a vector having context words and word to replace.\n",
      "    if add:\n",
      "        context_word_vector = base_unison + final_model.syn0[final_model.vocab[word].index]\n",
      "    else:\n",
      "        context_word_vector = multiply(base_unison, final_model.syn0[final_model.vocab[word].index])\n",
      "   \n",
      "    results = {}\n",
      "    for replacement, xx in final_model.most_similar(word,  topn=30):\n",
      "            # Ignore itself as a replacement.\n",
      "            if replacement in context_words:\n",
      "                continue\n",
      "            # Get rid of cases like \"fix\" and \"fixing\".\n",
      "            if word in replacement or replacement in word:\n",
      "                continue\n",
      "            # Replace only with the same POS tag.\n",
      "            if replacement[-1] != word[-1]:\n",
      "                continue\n",
      "            \n",
      "            replacement_vector = final_model.syn0[final_model.vocab[replacement].index]\n",
      "            \n",
      "            if add:\n",
      "                context_repl_vector = base_unison + replacement_vector\n",
      "            else:\n",
      "                context_repl_vector = multiply(base_unison, replacement_vector)\n",
      "\n",
      "            results[replacement] = cosine(context_word_vector, context_repl_vector) \n",
      "            #print context_word_vector +\" \" + context_repl_vector\n",
      "    #print results        \n",
      "    return (word, map(lambda x: x[0][:-2], sorted(results.iteritems(), key=operator.itemgetter(1), reverse=True)[:10]))\n",
      "\n",
      "###############################################################################\n",
      "def find_replacements(sentence, lwindow, rwindow, add=False):\n",
      "    \"\"\"\n",
      "    This function would be used to find replacements for the word present\n",
      "    inside the sentence.\n",
      "\n",
      "    @sentence: Actual sentence in which word is present.\n",
      "    @lwindow : Number of context words in the left of the replacement.\n",
      "    @rwindow : Number of context words in the right of the replacement.\n",
      "    @add     : Whether we are going to add the vectors. \n",
      "               Otherwise default to multiply.\n",
      "\n",
      "    \"\"\"\n",
      "    # Remove the START and END temporarily and tag the data.\n",
      "    word       = sentence[sentence.index('_START_') + 7 : sentence.index('_END_')]\n",
      "    word_index = nltk.word_tokenize(sentence).index(\"_START_\" + word + \"_END_\")\n",
      "    t_sentence = sentence[:sentence.index('_START_')] + word + sentence[sentence.index('_END_') + 5:]\n",
      "\n",
      "    # Tag the sentence and then bring the START and END back.\n",
      "    tagged_sentence = nltk.pos_tag(nltk.word_tokenize(t_sentence))\n",
      "    #print sentence, tagged_sentence\n",
      "\n",
      "    wnl = WordNetLemmatizer()\n",
      "    word_postag = get_wordnet_pos(tagged_sentence[word_index][1])\n",
      "    if word_postag:\n",
      "        word = wnl.lemmatize(word, pos=word_postag)\n",
      "    tagged_sentence[word_index] = [\"_START_\" + word + \"_END_\", tagged_sentence[word_index][1]]\n",
      "    \n",
      "    # Remove all the words, whose tags are not important and also\n",
      "    # get rid of smaller words.\n",
      "    imp_words = filter(lambda x: len(x[0]) > 2, get_imp_words(tagged_sentence))\n",
      "    #print imp_words\n",
      "\n",
      "    final_list = []\n",
      "    for i, x in enumerate(imp_words):\n",
      "        if x[0].startswith(\"_START_\"):\n",
      "            index = i\n",
      "            x[0] = x[0][7:x[0].index(\"_END_\")]\n",
      "            final_list.append(\"_START_\" + x[0].lower() + \"_\" + x[1][0].lower() + \"_END_\")\n",
      "            word = word.lower() #+ \"_\" + x[1][0].lower()\n",
      "            #print word\n",
      "        else:\n",
      "            # Lemmatize all the words.\n",
      "            word_postag = get_wordnet_pos(x[1])\n",
      "            temp = x[0]\n",
      "            if word_postag:\n",
      "                temp = wnl.lemmatize(x[0], pos=word_postag)\n",
      "            final_list.append(temp.lower())# + \"_\" + x[1][0].lower())\n",
      "            #print final_list\n",
      "\n",
      "    #print word\n",
      "    try:\n",
      "        return find_replacements_helper(final_list, word, index, int(lwindow), int(rwindow) + 1, add)\n",
      "    except Exception:\n",
      "        return \"NONE\"\n",
      "\n",
      "###############################################################################\n",
      "\n",
      "def get_options():\n",
      "    parser = OptionParser()\n",
      "\n",
      "    # Options related to the model.\n",
      "    parser.add_option(\"--bin_file\", dest=\"bin_file\",\n",
      "                      help=\"Location from where bin file is to be read.\")\n",
      "\n",
      "    # Options related to testing.\n",
      "    parser.add_option(\"-x\", \"--xml_input\", dest=\"xml_input\",\n",
      "                      help=\"Xml input file provided by the English Lexical\\\n",
      "                            Substituition task.\")\n",
      "    parser.add_option(\"--add\", action=\"store_true\", dest=\"add\",\n",
      "                      help=\"If we want to add vectors in context for finding replacements.\")\n",
      "    parser.add_option(\"--lwindow\", dest=\"lwindow\", default=2,\n",
      "                      help=\"Number of words to the left of the words to be replaced.\")\n",
      "    parser.add_option(\"--rwindow\", dest=\"rwindow\", default=2,\n",
      "                      help=\"Number of words to the right of the words to be replaced.\")\n",
      "    parser.add_option(\"--output_to\", dest=\"output_file\",\n",
      "                      help=\"File name where output has to be written.\")\n",
      "    \n",
      "    opts, args = parser.parse_args()\n",
      "    \n",
      "    if not opts.bin_file:\n",
      "        sys.exit(\"Please give either bin file.\")\n",
      "\n",
      "    return (opts, args)\n",
      "\n",
      "###############################################################################\n",
      "\n"
     ],
     "language": "python",
     "metadata": {},
     "outputs": [],
     "prompt_number": 27
    },
    {
     "cell_type": "code",
     "collapsed": false,
     "input": [
      "if __name__ == \"__main__\":\n",
      "\n",
      "    # Either train or load the model.\n",
      "\n",
      "    #final_model = word2vec.Word2Vec.load_word2vec_format(opts.bin_file, binary=1)\n",
      "    #    final_model = io_utils.load(opts.pkl_file, MySpace)\n",
      "\n",
      "    # Load and test the XMl input file.\n",
      "    #if not opts.xml_input:\n",
      "    #    sys.exit(\"\")\n",
      "\n",
      "    # Read the file In.\n",
      "    sxml = \"\"\n",
      "    with open('/Users/bansal/Desktop/NLP/Project/English-Lexicalized-Text-Substituion/TaskTestData/test/lexsub_test_cleaned.xml') as xml_file:\n",
      "        sxml = xml_file.read()\n",
      "\n",
      "    parser = etree.XMLParser(recover=True)\n",
      "    tree   = etree.fromstring(sxml, parser=parser)\n",
      "\n",
      "    f = open('test_file', \"w\")\n",
      "    for el in tree.findall('lexelt'):\n",
      "        for ch in el.getchildren():\n",
      "            for ch1 in ch.getchildren():\n",
      "                sentence = ch1.text\n",
      "                \n",
      "                #word     = sentence[sentence.index('_START_') + 7 : sentence.index('_END_')]\n",
      "                #index    = nltk.word_tokenize(sentence).index(\"_START_\" + word + \"_END_\")\n",
      "                #sentence = sentence[:sentence.index('_START_')] + word + sentence[sentence.index('_END_') + 5:]\n",
      "                \n",
      "                #print sentence, word, index\n",
      "                result = find_replacements(sentence, 2, 2, False)\n",
      "                values = \";\".join(result[1])\n",
      "                f.write(str(result[0].replace(\"_\", \".\")) + \" \" + str(ch.items()[0][1]) + \" :: \" + values)\n",
      "                f.write(\"\\n\")\n",
      "    f.close()\n",
      "    print \"Output file written.\"\n"
     ],
     "language": "python",
     "metadata": {},
     "outputs": [
      {
       "output_type": "stream",
       "stream": "stdout",
       "text": [
        "[('sides', 0.5404036045074463), ('Sartin_underwent_mastectomy', 0.50263512134552), ('Mayra_Valle_rushed', 0.4894534647464752), ('flank', 0.450458824634552), ('corner', 0.4379889965057373), ('opposite', 0.43758079409599304), ('front', 0.43596020340919495), ('euromoney.com', 0.42980700731277466), ('Posh_rushes', 0.42164480686187744), ('flanks', 0.4199713468551636), ('sider', 0.41836321353912354), ('plowed_lone_furrow', 0.4177473783493042), ('Toby_Hysen', 0.4151671528816223), ('bobbly_surface', 0.4103683829307556), ('Big_disbalance', 0.41017913818359375), ('hovering_precariously', 0.40980979800224304), ('Cossham_Street', 0.409179151058197), ('wing_Jonny_Vaughton', 0.4090364873409271), (\"CLARKY_'S_VERDICT\", 0.40880054235458374), ('Nick_Walne', 0.40627938508987427), ('villager_Pan_Guihui', 0.4056333303451538), ('Glos_Wilts', 0.40536123514175415), ('forth_Solov_quips', 0.40519005060195923), ('otherside', 0.40467768907546997), ('Successive_defeats', 0.4046593904495239), ('Domaine_Rouse', 0.40439945459365845), ('Driv_Driver', 0.40028876066207886), ('lefthand', 0.39918646216392517), ('CON.com_covers_general', 0.39849916100502014), ('Ugo_Mola', 0.39717453718185425)]\n",
        "[('sides', 0.5404036045074463), ('Sartin_underwent_mastectomy', 0.50263512134552), ('Mayra_Valle_rushed', 0.4894534647464752), ('flank', 0.450458824634552), ('corner', 0.4379889965057373), ('opposite', 0.43758079409599304), ('front', 0.43596020340919495), ('euromoney.com', 0.42980700731277466), ('Posh_rushes', 0.42164480686187744), ('flanks', 0.4199713468551636), ('sider', 0.41836321353912354), ('plowed_lone_furrow', 0.4177473783493042), ('Toby_Hysen', 0.4151671528816223), ('bobbly_surface', 0.4103683829307556), ('Big_disbalance', 0.41017913818359375), ('hovering_precariously', 0.40980979800224304), ('Cossham_Street', 0.409179151058197), ('wing_Jonny_Vaughton', 0.4090364873409271), (\"CLARKY_'S_VERDICT\", 0.40880054235458374), ('Nick_Walne', 0.40627938508987427), ('villager_Pan_Guihui', 0.4056333303451538), ('Glos_Wilts', 0.40536123514175415), ('forth_Solov_quips', 0.40519005060195923), ('otherside', 0.40467768907546997), ('Successive_defeats', 0.4046593904495239), ('Domaine_Rouse', 0.40439945459365845), ('Driv_Driver', 0.40028876066207886), ('lefthand', 0.39918646216392517), ('CON.com_covers_general', 0.39849916100502014), ('Ugo_Mola', 0.39717453718185425)]"
       ]
      },
      {
       "output_type": "stream",
       "stream": "stdout",
       "text": [
        "\n",
        "[('sides', 0.5404036045074463), ('Sartin_underwent_mastectomy', 0.50263512134552), ('Mayra_Valle_rushed', 0.4894534647464752), ('flank', 0.450458824634552), ('corner', 0.4379889965057373), ('opposite', 0.43758079409599304), ('front', 0.43596020340919495), ('euromoney.com', 0.42980700731277466), ('Posh_rushes', 0.42164480686187744), ('flanks', 0.4199713468551636), ('sider', 0.41836321353912354), ('plowed_lone_furrow', 0.4177473783493042), ('Toby_Hysen', 0.4151671528816223), ('bobbly_surface', 0.4103683829307556), ('Big_disbalance', 0.41017913818359375), ('hovering_precariously', 0.40980979800224304), ('Cossham_Street', 0.409179151058197), ('wing_Jonny_Vaughton', 0.4090364873409271), (\"CLARKY_'S_VERDICT\", 0.40880054235458374), ('Nick_Walne', 0.40627938508987427), ('villager_Pan_Guihui', 0.4056333303451538), ('Glos_Wilts', 0.40536123514175415), ('forth_Solov_quips', 0.40519005060195923), ('otherside', 0.40467768907546997), ('Successive_defeats', 0.4046593904495239), ('Domaine_Rouse', 0.40439945459365845), ('Driv_Driver', 0.40028876066207886), ('lefthand', 0.39918646216392517), ('CON.com_covers_general', 0.39849916100502014), ('Ugo_Mola', 0.39717453718185425)]"
       ]
      },
      {
       "output_type": "stream",
       "stream": "stdout",
       "text": [
        "\n",
        "[('sides', 0.5404036045074463), ('Sartin_underwent_mastectomy', 0.50263512134552), ('Mayra_Valle_rushed', 0.4894534647464752), ('flank', 0.450458824634552), ('corner', 0.4379889965057373), ('opposite', 0.43758079409599304), ('front', 0.43596020340919495), ('euromoney.com', 0.42980700731277466), ('Posh_rushes', 0.42164480686187744), ('flanks', 0.4199713468551636), ('sider', 0.41836321353912354), ('plowed_lone_furrow', 0.4177473783493042), ('Toby_Hysen', 0.4151671528816223), ('bobbly_surface', 0.4103683829307556), ('Big_disbalance', 0.41017913818359375), ('hovering_precariously', 0.40980979800224304), ('Cossham_Street', 0.409179151058197), ('wing_Jonny_Vaughton', 0.4090364873409271), (\"CLARKY_'S_VERDICT\", 0.40880054235458374), ('Nick_Walne', 0.40627938508987427), ('villager_Pan_Guihui', 0.4056333303451538), ('Glos_Wilts', 0.40536123514175415), ('forth_Solov_quips', 0.40519005060195923), ('otherside', 0.40467768907546997), ('Successive_defeats', 0.4046593904495239), ('Domaine_Rouse', 0.40439945459365845), ('Driv_Driver', 0.40028876066207886), ('lefthand', 0.39918646216392517), ('CON.com_covers_general', 0.39849916100502014), ('Ugo_Mola', 0.39717453718185425)]"
       ]
      },
      {
       "output_type": "stream",
       "stream": "stdout",
       "text": [
        "\n",
        "[('sides', 0.5404036045074463), ('Sartin_underwent_mastectomy', 0.50263512134552), ('Mayra_Valle_rushed', 0.4894534647464752), ('flank', 0.450458824634552), ('corner', 0.4379889965057373), ('opposite', 0.43758079409599304), ('front', 0.43596020340919495), ('euromoney.com', 0.42980700731277466), ('Posh_rushes', 0.42164480686187744), ('flanks', 0.4199713468551636), ('sider', 0.41836321353912354), ('plowed_lone_furrow', 0.4177473783493042), ('Toby_Hysen', 0.4151671528816223), ('bobbly_surface', 0.4103683829307556), ('Big_disbalance', 0.41017913818359375), ('hovering_precariously', 0.40980979800224304), ('Cossham_Street', 0.409179151058197), ('wing_Jonny_Vaughton', 0.4090364873409271), (\"CLARKY_'S_VERDICT\", 0.40880054235458374), ('Nick_Walne', 0.40627938508987427), ('villager_Pan_Guihui', 0.4056333303451538), ('Glos_Wilts', 0.40536123514175415), ('forth_Solov_quips', 0.40519005060195923), ('otherside', 0.40467768907546997), ('Successive_defeats', 0.4046593904495239), ('Domaine_Rouse', 0.40439945459365845), ('Driv_Driver', 0.40028876066207886), ('lefthand', 0.39918646216392517), ('CON.com_covers_general', 0.39849916100502014), ('Ugo_Mola', 0.39717453718185425)]"
       ]
      },
      {
       "output_type": "stream",
       "stream": "stdout",
       "text": [
        "\n",
        "[('sides', 0.5404036045074463), ('Sartin_underwent_mastectomy', 0.50263512134552), ('Mayra_Valle_rushed', 0.4894534647464752), ('flank', 0.450458824634552), ('corner', 0.4379889965057373), ('opposite', 0.43758079409599304), ('front', 0.43596020340919495), ('euromoney.com', 0.42980700731277466), ('Posh_rushes', 0.42164480686187744), ('flanks', 0.4199713468551636), ('sider', 0.41836321353912354), ('plowed_lone_furrow', 0.4177473783493042), ('Toby_Hysen', 0.4151671528816223), ('bobbly_surface', 0.4103683829307556), ('Big_disbalance', 0.41017913818359375), ('hovering_precariously', 0.40980979800224304), ('Cossham_Street', 0.409179151058197), ('wing_Jonny_Vaughton', 0.4090364873409271), (\"CLARKY_'S_VERDICT\", 0.40880054235458374), ('Nick_Walne', 0.40627938508987427), ('villager_Pan_Guihui', 0.4056333303451538), ('Glos_Wilts', 0.40536123514175415), ('forth_Solov_quips', 0.40519005060195923), ('otherside', 0.40467768907546997), ('Successive_defeats', 0.4046593904495239), ('Domaine_Rouse', 0.40439945459365845), ('Driv_Driver', 0.40028876066207886), ('lefthand', 0.39918646216392517), ('CON.com_covers_general', 0.39849916100502014), ('Ugo_Mola', 0.39717453718185425)]"
       ]
      },
      {
       "output_type": "stream",
       "stream": "stdout",
       "text": [
        "\n",
        "[('sides', 0.5404036045074463), ('Sartin_underwent_mastectomy', 0.50263512134552), ('Mayra_Valle_rushed', 0.4894534647464752), ('flank', 0.450458824634552), ('corner', 0.4379889965057373), ('opposite', 0.43758079409599304), ('front', 0.43596020340919495), ('euromoney.com', 0.42980700731277466), ('Posh_rushes', 0.42164480686187744), ('flanks', 0.4199713468551636), ('sider', 0.41836321353912354), ('plowed_lone_furrow', 0.4177473783493042), ('Toby_Hysen', 0.4151671528816223), ('bobbly_surface', 0.4103683829307556), ('Big_disbalance', 0.41017913818359375), ('hovering_precariously', 0.40980979800224304), ('Cossham_Street', 0.409179151058197), ('wing_Jonny_Vaughton', 0.4090364873409271), (\"CLARKY_'S_VERDICT\", 0.40880054235458374), ('Nick_Walne', 0.40627938508987427), ('villager_Pan_Guihui', 0.4056333303451538), ('Glos_Wilts', 0.40536123514175415), ('forth_Solov_quips', 0.40519005060195923), ('otherside', 0.40467768907546997), ('Successive_defeats', 0.4046593904495239), ('Domaine_Rouse', 0.40439945459365845), ('Driv_Driver', 0.40028876066207886), ('lefthand', 0.39918646216392517), ('CON.com_covers_general', 0.39849916100502014), ('Ugo_Mola', 0.39717453718185425)]"
       ]
      },
      {
       "output_type": "stream",
       "stream": "stdout",
       "text": [
        "\n",
        "[('sides', 0.5404036045074463), ('Sartin_underwent_mastectomy', 0.50263512134552), ('Mayra_Valle_rushed', 0.4894534647464752), ('flank', 0.450458824634552), ('corner', 0.4379889965057373), ('opposite', 0.43758079409599304), ('front', 0.43596020340919495), ('euromoney.com', 0.42980700731277466), ('Posh_rushes', 0.42164480686187744), ('flanks', 0.4199713468551636), ('sider', 0.41836321353912354), ('plowed_lone_furrow', 0.4177473783493042), ('Toby_Hysen', 0.4151671528816223), ('bobbly_surface', 0.4103683829307556), ('Big_disbalance', 0.41017913818359375), ('hovering_precariously', 0.40980979800224304), ('Cossham_Street', 0.409179151058197), ('wing_Jonny_Vaughton', 0.4090364873409271), (\"CLARKY_'S_VERDICT\", 0.40880054235458374), ('Nick_Walne', 0.40627938508987427), ('villager_Pan_Guihui', 0.4056333303451538), ('Glos_Wilts', 0.40536123514175415), ('forth_Solov_quips', 0.40519005060195923), ('otherside', 0.40467768907546997), ('Successive_defeats', 0.4046593904495239), ('Domaine_Rouse', 0.40439945459365845), ('Driv_Driver', 0.40028876066207886), ('lefthand', 0.39918646216392517), ('CON.com_covers_general', 0.39849916100502014), ('Ugo_Mola', 0.39717453718185425)]"
       ]
      },
      {
       "output_type": "stream",
       "stream": "stdout",
       "text": [
        "\n",
        "[('sides', 0.5404036045074463), ('Sartin_underwent_mastectomy', 0.50263512134552), ('Mayra_Valle_rushed', 0.4894534647464752), ('flank', 0.450458824634552), ('corner', 0.4379889965057373), ('opposite', 0.43758079409599304), ('front', 0.43596020340919495), ('euromoney.com', 0.42980700731277466), ('Posh_rushes', 0.42164480686187744), ('flanks', 0.4199713468551636), ('sider', 0.41836321353912354), ('plowed_lone_furrow', 0.4177473783493042), ('Toby_Hysen', 0.4151671528816223), ('bobbly_surface', 0.4103683829307556), ('Big_disbalance', 0.41017913818359375), ('hovering_precariously', 0.40980979800224304), ('Cossham_Street', 0.409179151058197), ('wing_Jonny_Vaughton', 0.4090364873409271), (\"CLARKY_'S_VERDICT\", 0.40880054235458374), ('Nick_Walne', 0.40627938508987427), ('villager_Pan_Guihui', 0.4056333303451538), ('Glos_Wilts', 0.40536123514175415), ('forth_Solov_quips', 0.40519005060195923), ('otherside', 0.40467768907546997), ('Successive_defeats', 0.4046593904495239), ('Domaine_Rouse', 0.40439945459365845), ('Driv_Driver', 0.40028876066207886), ('lefthand', 0.39918646216392517), ('CON.com_covers_general', 0.39849916100502014), ('Ugo_Mola', 0.39717453718185425)]"
       ]
      },
      {
       "output_type": "stream",
       "stream": "stdout",
       "text": [
        "\n",
        "[('sides', 0.5404036045074463), ('Sartin_underwent_mastectomy', 0.50263512134552), ('Mayra_Valle_rushed', 0.4894534647464752), ('flank', 0.450458824634552), ('corner', 0.4379889965057373), ('opposite', 0.43758079409599304), ('front', 0.43596020340919495), ('euromoney.com', 0.42980700731277466), ('Posh_rushes', 0.42164480686187744), ('flanks', 0.4199713468551636), ('sider', 0.41836321353912354), ('plowed_lone_furrow', 0.4177473783493042), ('Toby_Hysen', 0.4151671528816223), ('bobbly_surface', 0.4103683829307556), ('Big_disbalance', 0.41017913818359375), ('hovering_precariously', 0.40980979800224304), ('Cossham_Street', 0.409179151058197), ('wing_Jonny_Vaughton', 0.4090364873409271), (\"CLARKY_'S_VERDICT\", 0.40880054235458374), ('Nick_Walne', 0.40627938508987427), ('villager_Pan_Guihui', 0.4056333303451538), ('Glos_Wilts', 0.40536123514175415), ('forth_Solov_quips', 0.40519005060195923), ('otherside', 0.40467768907546997), ('Successive_defeats', 0.4046593904495239), ('Domaine_Rouse', 0.40439945459365845), ('Driv_Driver', 0.40028876066207886), ('lefthand', 0.39918646216392517), ('CON.com_covers_general', 0.39849916100502014), ('Ugo_Mola', 0.39717453718185425)]"
       ]
      },
      {
       "output_type": "stream",
       "stream": "stdout",
       "text": [
        "\n",
        "[('know', 0.7356717586517334), ('telling', 0.709108829498291), ('tells', 0.637144148349762), ('ask', 0.6280854940414429), ('Tell', 0.6206035614013672), ('say', 0.6163530945777893), ('Telling', 0.6053333282470703), ('see', 0.5772490501403809), ('remind', 0.5710749626159668), ('explain', 0.5621182322502136), ('remember', 0.5613244771957397), ('understand', 0.5587137341499329), ('Simpson_ghostwritten_hypothetical', 0.5569250583648682), ('hear', 0.5507655739784241), ('fabulously_filthy_rich', 0.5486963987350464), ('pretend', 0.5373020172119141), ('RUSH_Yeah', 0.5350915193557739), ('E_mail_heyjen@phillynews.com', 0.53207927942276), ('realize', 0.5281248092651367), ('Nobody_cares', 0.5244283676147461), ('blog@gothamgazette.com', 0.5239205360412598), ('\\xc3\\x94What', 0.5229368209838867), ('Situational_Awareness_What', 0.5224934816360474), ('Q._RealityWanted.com', 0.5223105549812317), ('hey_enugh', 0.5219138860702515), (\"don'tknow\", 0.5211476683616638), ('visiting_https://www.cpsc.gov/cgibin/incident.aspx', 0.5207147002220154), ('Victor_Bout_Somsak', 0.5183579325675964), ('talk', 0.518069863319397), (\"Sorry_ma'am\", 0.5177942514419556)]"
       ]
      },
      {
       "output_type": "stream",
       "stream": "stdout",
       "text": [
        "\n",
        "[('know', 0.7356717586517334), ('telling', 0.709108829498291), ('tells', 0.637144148349762), ('ask', 0.6280854940414429), ('Tell', 0.6206035614013672), ('say', 0.6163530945777893), ('Telling', 0.6053333282470703), ('see', 0.5772490501403809), ('remind', 0.5710749626159668), ('explain', 0.5621182322502136), ('remember', 0.5613244771957397), ('understand', 0.5587137341499329), ('Simpson_ghostwritten_hypothetical', 0.5569250583648682), ('hear', 0.5507655739784241), ('fabulously_filthy_rich', 0.5486963987350464), ('pretend', 0.5373020172119141), ('RUSH_Yeah', 0.5350915193557739), ('E_mail_heyjen@phillynews.com', 0.53207927942276), ('realize', 0.5281248092651367), ('Nobody_cares', 0.5244283676147461), ('blog@gothamgazette.com', 0.5239205360412598), ('\\xc3\\x94What', 0.5229368209838867), ('Situational_Awareness_What', 0.5224934816360474), ('Q._RealityWanted.com', 0.5223105549812317), ('hey_enugh', 0.5219138860702515), (\"don'tknow\", 0.5211476683616638), ('visiting_https://www.cpsc.gov/cgibin/incident.aspx', 0.5207147002220154), ('Victor_Bout_Somsak', 0.5183579325675964), ('talk', 0.518069863319397), (\"Sorry_ma'am\", 0.5177942514419556)]"
       ]
      },
      {
       "output_type": "stream",
       "stream": "stdout",
       "text": [
        "\n",
        "[('know', 0.7356717586517334), ('telling', 0.709108829498291), ('tells', 0.637144148349762), ('ask', 0.6280854940414429), ('Tell', 0.6206035614013672), ('say', 0.6163530945777893), ('Telling', 0.6053333282470703), ('see', 0.5772490501403809), ('remind', 0.5710749626159668), ('explain', 0.5621182322502136), ('remember', 0.5613244771957397), ('understand', 0.5587137341499329), ('Simpson_ghostwritten_hypothetical', 0.5569250583648682), ('hear', 0.5507655739784241), ('fabulously_filthy_rich', 0.5486963987350464), ('pretend', 0.5373020172119141), ('RUSH_Yeah', 0.5350915193557739), ('E_mail_heyjen@phillynews.com', 0.53207927942276), ('realize', 0.5281248092651367), ('Nobody_cares', 0.5244283676147461), ('blog@gothamgazette.com', 0.5239205360412598), ('\\xc3\\x94What', 0.5229368209838867), ('Situational_Awareness_What', 0.5224934816360474), ('Q._RealityWanted.com', 0.5223105549812317), ('hey_enugh', 0.5219138860702515), (\"don'tknow\", 0.5211476683616638), ('visiting_https://www.cpsc.gov/cgibin/incident.aspx', 0.5207147002220154), ('Victor_Bout_Somsak', 0.5183579325675964), ('talk', 0.518069863319397), (\"Sorry_ma'am\", 0.5177942514419556)]"
       ]
      },
      {
       "output_type": "stream",
       "stream": "stdout",
       "text": [
        "\n",
        "[('know', 0.7356717586517334), ('telling', 0.709108829498291), ('tells', 0.637144148349762), ('ask', 0.6280854940414429), ('Tell', 0.6206035614013672), ('say', 0.6163530945777893), ('Telling', 0.6053333282470703), ('see', 0.5772490501403809), ('remind', 0.5710749626159668), ('explain', 0.5621182322502136), ('remember', 0.5613244771957397), ('understand', 0.5587137341499329), ('Simpson_ghostwritten_hypothetical', 0.5569250583648682), ('hear', 0.5507655739784241), ('fabulously_filthy_rich', 0.5486963987350464), ('pretend', 0.5373020172119141), ('RUSH_Yeah', 0.5350915193557739), ('E_mail_heyjen@phillynews.com', 0.53207927942276), ('realize', 0.5281248092651367), ('Nobody_cares', 0.5244283676147461), ('blog@gothamgazette.com', 0.5239205360412598), ('\\xc3\\x94What', 0.5229368209838867), ('Situational_Awareness_What', 0.5224934816360474), ('Q._RealityWanted.com', 0.5223105549812317), ('hey_enugh', 0.5219138860702515), (\"don'tknow\", 0.5211476683616638), ('visiting_https://www.cpsc.gov/cgibin/incident.aspx', 0.5207147002220154), ('Victor_Bout_Somsak', 0.5183579325675964), ('talk', 0.518069863319397), (\"Sorry_ma'am\", 0.5177942514419556)]"
       ]
      },
      {
       "output_type": "stream",
       "stream": "stdout",
       "text": [
        "\n",
        "[('know', 0.7356717586517334), ('telling', 0.709108829498291), ('tells', 0.637144148349762), ('ask', 0.6280854940414429), ('Tell', 0.6206035614013672), ('say', 0.6163530945777893), ('Telling', 0.6053333282470703), ('see', 0.5772490501403809), ('remind', 0.5710749626159668), ('explain', 0.5621182322502136), ('remember', 0.5613244771957397), ('understand', 0.5587137341499329), ('Simpson_ghostwritten_hypothetical', 0.5569250583648682), ('hear', 0.5507655739784241), ('fabulously_filthy_rich', 0.5486963987350464), ('pretend', 0.5373020172119141), ('RUSH_Yeah', 0.5350915193557739), ('E_mail_heyjen@phillynews.com', 0.53207927942276), ('realize', 0.5281248092651367), ('Nobody_cares', 0.5244283676147461), ('blog@gothamgazette.com', 0.5239205360412598), ('\\xc3\\x94What', 0.5229368209838867), ('Situational_Awareness_What', 0.5224934816360474), ('Q._RealityWanted.com', 0.5223105549812317), ('hey_enugh', 0.5219138860702515), (\"don'tknow\", 0.5211476683616638), ('visiting_https://www.cpsc.gov/cgibin/incident.aspx', 0.5207147002220154), ('Victor_Bout_Somsak', 0.5183579325675964), ('talk', 0.518069863319397), (\"Sorry_ma'am\", 0.5177942514419556)]"
       ]
      },
      {
       "output_type": "stream",
       "stream": "stdout",
       "text": [
        "\n",
        "[('know', 0.7356717586517334), ('telling', 0.709108829498291), ('tells', 0.637144148349762), ('ask', 0.6280854940414429), ('Tell', 0.6206035614013672), ('say', 0.6163530945777893), ('Telling', 0.6053333282470703), ('see', 0.5772490501403809), ('remind', 0.5710749626159668), ('explain', 0.5621182322502136), ('remember', 0.5613244771957397), ('understand', 0.5587137341499329), ('Simpson_ghostwritten_hypothetical', 0.5569250583648682), ('hear', 0.5507655739784241), ('fabulously_filthy_rich', 0.5486963987350464), ('pretend', 0.5373020172119141), ('RUSH_Yeah', 0.5350915193557739), ('E_mail_heyjen@phillynews.com', 0.53207927942276), ('realize', 0.5281248092651367), ('Nobody_cares', 0.5244283676147461), ('blog@gothamgazette.com', 0.5239205360412598), ('\\xc3\\x94What', 0.5229368209838867), ('Situational_Awareness_What', 0.5224934816360474), ('Q._RealityWanted.com', 0.5223105549812317), ('hey_enugh', 0.5219138860702515), (\"don'tknow\", 0.5211476683616638), ('visiting_https://www.cpsc.gov/cgibin/incident.aspx', 0.5207147002220154), ('Victor_Bout_Somsak', 0.5183579325675964), ('talk', 0.518069863319397), (\"Sorry_ma'am\", 0.5177942514419556)]"
       ]
      },
      {
       "output_type": "stream",
       "stream": "stdout",
       "text": [
        "\n",
        "[('know', 0.7356717586517334), ('telling', 0.709108829498291), ('tells', 0.637144148349762), ('ask', 0.6280854940414429), ('Tell', 0.6206035614013672), ('say', 0.6163530945777893), ('Telling', 0.6053333282470703), ('see', 0.5772490501403809), ('remind', 0.5710749626159668), ('explain', 0.5621182322502136), ('remember', 0.5613244771957397), ('understand', 0.5587137341499329), ('Simpson_ghostwritten_hypothetical', 0.5569250583648682), ('hear', 0.5507655739784241), ('fabulously_filthy_rich', 0.5486963987350464), ('pretend', 0.5373020172119141), ('RUSH_Yeah', 0.5350915193557739), ('E_mail_heyjen@phillynews.com', 0.53207927942276), ('realize', 0.5281248092651367), ('Nobody_cares', 0.5244283676147461), ('blog@gothamgazette.com', 0.5239205360412598), ('\\xc3\\x94What', 0.5229368209838867), ('Situational_Awareness_What', 0.5224934816360474), ('Q._RealityWanted.com', 0.5223105549812317), ('hey_enugh', 0.5219138860702515), (\"don'tknow\", 0.5211476683616638), ('visiting_https://www.cpsc.gov/cgibin/incident.aspx', 0.5207147002220154), ('Victor_Bout_Somsak', 0.5183579325675964), ('talk', 0.518069863319397), (\"Sorry_ma'am\", 0.5177942514419556)]"
       ]
      },
      {
       "output_type": "stream",
       "stream": "stdout",
       "text": [
        "\n",
        "Warning: reep is not in entire corpus"
       ]
      },
      {
       "output_type": "stream",
       "stream": "stdout",
       "text": [
        "\n",
        "[('know', 0.7356717586517334), ('telling', 0.709108829498291), ('tells', 0.637144148349762), ('ask', 0.6280854940414429), ('Tell', 0.6206035614013672), ('say', 0.6163530945777893), ('Telling', 0.6053333282470703), ('see', 0.5772490501403809), ('remind', 0.5710749626159668), ('explain', 0.5621182322502136), ('remember', 0.5613244771957397), ('understand', 0.5587137341499329), ('Simpson_ghostwritten_hypothetical', 0.5569250583648682), ('hear', 0.5507655739784241), ('fabulously_filthy_rich', 0.5486963987350464), ('pretend', 0.5373020172119141), ('RUSH_Yeah', 0.5350915193557739), ('E_mail_heyjen@phillynews.com', 0.53207927942276), ('realize', 0.5281248092651367), ('Nobody_cares', 0.5244283676147461), ('blog@gothamgazette.com', 0.5239205360412598), ('\\xc3\\x94What', 0.5229368209838867), ('Situational_Awareness_What', 0.5224934816360474), ('Q._RealityWanted.com', 0.5223105549812317), ('hey_enugh', 0.5219138860702515), (\"don'tknow\", 0.5211476683616638), ('visiting_https://www.cpsc.gov/cgibin/incident.aspx', 0.5207147002220154), ('Victor_Bout_Somsak', 0.5183579325675964), ('talk', 0.518069863319397), (\"Sorry_ma'am\", 0.5177942514419556)]"
       ]
      },
      {
       "output_type": "stream",
       "stream": "stdout",
       "text": [
        "\n",
        "[('know', 0.7356717586517334), ('telling', 0.709108829498291), ('tells', 0.637144148349762), ('ask', 0.6280854940414429), ('Tell', 0.6206035614013672), ('say', 0.6163530945777893), ('Telling', 0.6053333282470703), ('see', 0.5772490501403809), ('remind', 0.5710749626159668), ('explain', 0.5621182322502136), ('remember', 0.5613244771957397), ('understand', 0.5587137341499329), ('Simpson_ghostwritten_hypothetical', 0.5569250583648682), ('hear', 0.5507655739784241), ('fabulously_filthy_rich', 0.5486963987350464), ('pretend', 0.5373020172119141), ('RUSH_Yeah', 0.5350915193557739), ('E_mail_heyjen@phillynews.com', 0.53207927942276), ('realize', 0.5281248092651367), ('Nobody_cares', 0.5244283676147461), ('blog@gothamgazette.com', 0.5239205360412598), ('\\xc3\\x94What', 0.5229368209838867), ('Situational_Awareness_What', 0.5224934816360474), ('Q._RealityWanted.com', 0.5223105549812317), ('hey_enugh', 0.5219138860702515), (\"don'tknow\", 0.5211476683616638), ('visiting_https://www.cpsc.gov/cgibin/incident.aspx', 0.5207147002220154), ('Victor_Bout_Somsak', 0.5183579325675964), ('talk', 0.518069863319397), (\"Sorry_ma'am\", 0.5177942514419556)]"
       ]
      },
      {
       "output_type": "stream",
       "stream": "stdout",
       "text": [
        "\n",
        "[('know', 0.7356717586517334), ('telling', 0.709108829498291), ('tells', 0.637144148349762), ('ask', 0.6280854940414429), ('Tell', 0.6206035614013672), ('say', 0.6163530945777893), ('Telling', 0.6053333282470703), ('see', 0.5772490501403809), ('remind', 0.5710749626159668), ('explain', 0.5621182322502136), ('remember', 0.5613244771957397), ('understand', 0.5587137341499329), ('Simpson_ghostwritten_hypothetical', 0.5569250583648682), ('hear', 0.5507655739784241), ('fabulously_filthy_rich', 0.5486963987350464), ('pretend', 0.5373020172119141), ('RUSH_Yeah', 0.5350915193557739), ('E_mail_heyjen@phillynews.com', 0.53207927942276), ('realize', 0.5281248092651367), ('Nobody_cares', 0.5244283676147461), ('blog@gothamgazette.com', 0.5239205360412598), ('\\xc3\\x94What', 0.5229368209838867), ('Situational_Awareness_What', 0.5224934816360474), ('Q._RealityWanted.com', 0.5223105549812317), ('hey_enugh', 0.5219138860702515), (\"don'tknow\", 0.5211476683616638), ('visiting_https://www.cpsc.gov/cgibin/incident.aspx', 0.5207147002220154), ('Victor_Bout_Somsak', 0.5183579325675964), ('talk', 0.518069863319397), (\"Sorry_ma'am\", 0.5177942514419556)]"
       ]
      },
      {
       "output_type": "stream",
       "stream": "stdout",
       "text": [
        "\n",
        "[('horrible', 0.9243925213813782), ('horrendous', 0.8467271327972412), ('dreadful', 0.8022767305374146), ('awful', 0.7478915452957153), ('horrid', 0.7179029583930969), ('atrocious', 0.6891815662384033), ('horrific', 0.683083713054657), ('bad', 0.6828613877296448), ('appalling', 0.6752809286117554), ('horrible_horrible', 0.6672273278236389), ('hideous', 0.6446603536605835), ('lousy', 0.6132175922393799), ('horrifying', 0.6055789589881897), ('ghastly', 0.6020578742027283), ('wretched', 0.5955514907836914), ('precedent_Kasdan', 0.59401535987854), ('unfortunate', 0.5918844938278198), ('devastating', 0.5874139666557312), ('miserable', 0.5836758613586426), ('disastrous', 0.5753663182258606), ('unbelievable', 0.572780966758728), ('unforgivable', 0.5706615447998047), ('Horrible', 0.5688599348068237), ('abominable', 0.5677133202552795), ('unspeakable', 0.5612823963165283), ('good', 0.5602043271064758), ('disgusting', 0.5601400136947632), ('worst', 0.5575069785118103), ('sad', 0.5545868873596191), ('pitiful', 0.5537433624267578)]"
       ]
      },
      {
       "output_type": "stream",
       "stream": "stdout",
       "text": [
        "\n",
        "[('horrible', 0.9243925213813782), ('horrendous', 0.8467271327972412), ('dreadful', 0.8022767305374146), ('awful', 0.7478915452957153), ('horrid', 0.7179029583930969), ('atrocious', 0.6891815662384033), ('horrific', 0.683083713054657), ('bad', 0.6828613877296448), ('appalling', 0.6752809286117554), ('horrible_horrible', 0.6672273278236389), ('hideous', 0.6446603536605835), ('lousy', 0.6132175922393799), ('horrifying', 0.6055789589881897), ('ghastly', 0.6020578742027283), ('wretched', 0.5955514907836914), ('precedent_Kasdan', 0.59401535987854), ('unfortunate', 0.5918844938278198), ('devastating', 0.5874139666557312), ('miserable', 0.5836758613586426), ('disastrous', 0.5753663182258606), ('unbelievable', 0.572780966758728), ('unforgivable', 0.5706615447998047), ('Horrible', 0.5688599348068237), ('abominable', 0.5677133202552795), ('unspeakable', 0.5612823963165283), ('good', 0.5602043271064758), ('disgusting', 0.5601400136947632), ('worst', 0.5575069785118103), ('sad', 0.5545868873596191), ('pitiful', 0.5537433624267578)]"
       ]
      },
      {
       "output_type": "stream",
       "stream": "stdout",
       "text": [
        "\n",
        "Warning: u.s. is not in entire corpus"
       ]
      },
      {
       "output_type": "stream",
       "stream": "stdout",
       "text": [
        "\n",
        "[('horrible', 0.9243925213813782), ('horrendous', 0.8467271327972412), ('dreadful', 0.8022767305374146), ('awful', 0.7478915452957153), ('horrid', 0.7179029583930969), ('atrocious', 0.6891815662384033), ('horrific', 0.683083713054657), ('bad', 0.6828613877296448), ('appalling', 0.6752809286117554), ('horrible_horrible', 0.6672273278236389), ('hideous', 0.6446603536605835), ('lousy', 0.6132175922393799), ('horrifying', 0.6055789589881897), ('ghastly', 0.6020578742027283), ('wretched', 0.5955514907836914), ('precedent_Kasdan', 0.59401535987854), ('unfortunate', 0.5918844938278198), ('devastating', 0.5874139666557312), ('miserable', 0.5836758613586426), ('disastrous', 0.5753663182258606), ('unbelievable', 0.572780966758728), ('unforgivable', 0.5706615447998047), ('Horrible', 0.5688599348068237), ('abominable', 0.5677133202552795), ('unspeakable', 0.5612823963165283), ('good', 0.5602043271064758), ('disgusting', 0.5601400136947632), ('worst', 0.5575069785118103), ('sad', 0.5545868873596191), ('pitiful', 0.5537433624267578)]"
       ]
      },
      {
       "output_type": "stream",
       "stream": "stdout",
       "text": [
        "\n",
        "[('horrible', 0.9243925213813782), ('horrendous', 0.8467271327972412), ('dreadful', 0.8022767305374146), ('awful', 0.7478915452957153), ('horrid', 0.7179029583930969), ('atrocious', 0.6891815662384033), ('horrific', 0.683083713054657), ('bad', 0.6828613877296448), ('appalling', 0.6752809286117554), ('horrible_horrible', 0.6672273278236389), ('hideous', 0.6446603536605835), ('lousy', 0.6132175922393799), ('horrifying', 0.6055789589881897), ('ghastly', 0.6020578742027283), ('wretched', 0.5955514907836914), ('precedent_Kasdan', 0.59401535987854), ('unfortunate', 0.5918844938278198), ('devastating', 0.5874139666557312), ('miserable', 0.5836758613586426), ('disastrous', 0.5753663182258606), ('unbelievable', 0.572780966758728), ('unforgivable', 0.5706615447998047), ('Horrible', 0.5688599348068237), ('abominable', 0.5677133202552795), ('unspeakable', 0.5612823963165283), ('good', 0.5602043271064758), ('disgusting', 0.5601400136947632), ('worst', 0.5575069785118103), ('sad', 0.5545868873596191), ('pitiful', 0.5537433624267578)]"
       ]
      },
      {
       "output_type": "stream",
       "stream": "stdout",
       "text": [
        "\n",
        "[('horrible', 0.9243925213813782), ('horrendous', 0.8467271327972412), ('dreadful', 0.8022767305374146), ('awful', 0.7478915452957153), ('horrid', 0.7179029583930969), ('atrocious', 0.6891815662384033), ('horrific', 0.683083713054657), ('bad', 0.6828613877296448), ('appalling', 0.6752809286117554), ('horrible_horrible', 0.6672273278236389), ('hideous', 0.6446603536605835), ('lousy', 0.6132175922393799), ('horrifying', 0.6055789589881897), ('ghastly', 0.6020578742027283), ('wretched', 0.5955514907836914), ('precedent_Kasdan', 0.59401535987854), ('unfortunate', 0.5918844938278198), ('devastating', 0.5874139666557312), ('miserable', 0.5836758613586426), ('disastrous', 0.5753663182258606), ('unbelievable', 0.572780966758728), ('unforgivable', 0.5706615447998047), ('Horrible', 0.5688599348068237), ('abominable', 0.5677133202552795), ('unspeakable', 0.5612823963165283), ('good', 0.5602043271064758), ('disgusting', 0.5601400136947632), ('worst', 0.5575069785118103), ('sad', 0.5545868873596191), ('pitiful', 0.5537433624267578)]"
       ]
      },
      {
       "output_type": "stream",
       "stream": "stdout",
       "text": [
        "\n",
        "[('horrible', 0.9243925213813782), ('horrendous', 0.8467271327972412), ('dreadful', 0.8022767305374146), ('awful', 0.7478915452957153), ('horrid', 0.7179029583930969), ('atrocious', 0.6891815662384033), ('horrific', 0.683083713054657), ('bad', 0.6828613877296448), ('appalling', 0.6752809286117554), ('horrible_horrible', 0.6672273278236389), ('hideous', 0.6446603536605835), ('lousy', 0.6132175922393799), ('horrifying', 0.6055789589881897), ('ghastly', 0.6020578742027283), ('wretched', 0.5955514907836914), ('precedent_Kasdan', 0.59401535987854), ('unfortunate', 0.5918844938278198), ('devastating', 0.5874139666557312), ('miserable', 0.5836758613586426), ('disastrous', 0.5753663182258606), ('unbelievable', 0.572780966758728), ('unforgivable', 0.5706615447998047), ('Horrible', 0.5688599348068237), ('abominable', 0.5677133202552795), ('unspeakable', 0.5612823963165283), ('good', 0.5602043271064758), ('disgusting', 0.5601400136947632), ('worst', 0.5575069785118103), ('sad', 0.5545868873596191), ('pitiful', 0.5537433624267578)]"
       ]
      },
      {
       "output_type": "stream",
       "stream": "stdout",
       "text": [
        "\n",
        "Warning: reality. is not in entire corpus"
       ]
      },
      {
       "output_type": "stream",
       "stream": "stdout",
       "text": [
        "\n",
        "[('horrible', 0.9243925213813782), ('horrendous', 0.8467271327972412), ('dreadful', 0.8022767305374146), ('awful', 0.7478915452957153), ('horrid', 0.7179029583930969), ('atrocious', 0.6891815662384033), ('horrific', 0.683083713054657), ('bad', 0.6828613877296448), ('appalling', 0.6752809286117554), ('horrible_horrible', 0.6672273278236389), ('hideous', 0.6446603536605835), ('lousy', 0.6132175922393799), ('horrifying', 0.6055789589881897), ('ghastly', 0.6020578742027283), ('wretched', 0.5955514907836914), ('precedent_Kasdan', 0.59401535987854), ('unfortunate', 0.5918844938278198), ('devastating', 0.5874139666557312), ('miserable', 0.5836758613586426), ('disastrous', 0.5753663182258606), ('unbelievable', 0.572780966758728), ('unforgivable', 0.5706615447998047), ('Horrible', 0.5688599348068237), ('abominable', 0.5677133202552795), ('unspeakable', 0.5612823963165283), ('good', 0.5602043271064758), ('disgusting', 0.5601400136947632), ('worst', 0.5575069785118103), ('sad', 0.5545868873596191), ('pitiful', 0.5537433624267578)]"
       ]
      },
      {
       "output_type": "stream",
       "stream": "stdout",
       "text": [
        "\n",
        "[('horrible', 0.9243925213813782), ('horrendous', 0.8467271327972412), ('dreadful', 0.8022767305374146), ('awful', 0.7478915452957153), ('horrid', 0.7179029583930969), ('atrocious', 0.6891815662384033), ('horrific', 0.683083713054657), ('bad', 0.6828613877296448), ('appalling', 0.6752809286117554), ('horrible_horrible', 0.6672273278236389), ('hideous', 0.6446603536605835), ('lousy', 0.6132175922393799), ('horrifying', 0.6055789589881897), ('ghastly', 0.6020578742027283), ('wretched', 0.5955514907836914), ('precedent_Kasdan', 0.59401535987854), ('unfortunate', 0.5918844938278198), ('devastating', 0.5874139666557312), ('miserable', 0.5836758613586426), ('disastrous', 0.5753663182258606), ('unbelievable', 0.572780966758728), ('unforgivable', 0.5706615447998047), ('Horrible', 0.5688599348068237), ('abominable', 0.5677133202552795), ('unspeakable', 0.5612823963165283), ('good', 0.5602043271064758), ('disgusting', 0.5601400136947632), ('worst', 0.5575069785118103), ('sad', 0.5545868873596191), ('pitiful', 0.5537433624267578)]"
       ]
      },
      {
       "output_type": "stream",
       "stream": "stdout",
       "text": [
        "\n",
        "[('horrible', 0.9243925213813782), ('horrendous', 0.8467271327972412), ('dreadful', 0.8022767305374146), ('awful', 0.7478915452957153), ('horrid', 0.7179029583930969), ('atrocious', 0.6891815662384033), ('horrific', 0.683083713054657), ('bad', 0.6828613877296448), ('appalling', 0.6752809286117554), ('horrible_horrible', 0.6672273278236389), ('hideous', 0.6446603536605835), ('lousy', 0.6132175922393799), ('horrifying', 0.6055789589881897), ('ghastly', 0.6020578742027283), ('wretched', 0.5955514907836914), ('precedent_Kasdan', 0.59401535987854), ('unfortunate', 0.5918844938278198), ('devastating', 0.5874139666557312), ('miserable', 0.5836758613586426), ('disastrous', 0.5753663182258606), ('unbelievable', 0.572780966758728), ('unforgivable', 0.5706615447998047), ('Horrible', 0.5688599348068237), ('abominable', 0.5677133202552795), ('unspeakable', 0.5612823963165283), ('good', 0.5602043271064758), ('disgusting', 0.5601400136947632), ('worst', 0.5575069785118103), ('sad', 0.5545868873596191), ('pitiful', 0.5537433624267578)]"
       ]
      },
      {
       "output_type": "stream",
       "stream": "stdout",
       "text": [
        "\n"
       ]
      },
      {
       "output_type": "stream",
       "stream": "stderr",
       "text": [
        "-c:78: UnicodeWarning: Unicode equal comparison failed to convert both arguments to Unicode - interpreting them as being unequal\n"
       ]
      },
      {
       "ename": "KeyboardInterrupt",
       "evalue": "",
       "output_type": "pyerr",
       "traceback": [
        "\u001b[0;31m---------------------------------------------------------------------------\u001b[0m\n\u001b[0;31mKeyboardInterrupt\u001b[0m                         Traceback (most recent call last)",
        "\u001b[0;32m<ipython-input-28-f16ebb5a3bd7>\u001b[0m in \u001b[0;36m<module>\u001b[0;34m()\u001b[0m\n\u001b[1;32m     29\u001b[0m \u001b[0;34m\u001b[0m\u001b[0m\n\u001b[1;32m     30\u001b[0m                 \u001b[0;31m#print sentence, word, index\u001b[0m\u001b[0;34m\u001b[0m\u001b[0;34m\u001b[0m\u001b[0m\n\u001b[0;32m---> 31\u001b[0;31m                 \u001b[0mresult\u001b[0m \u001b[0;34m=\u001b[0m \u001b[0mfind_replacements\u001b[0m\u001b[0;34m(\u001b[0m\u001b[0msentence\u001b[0m\u001b[0;34m,\u001b[0m \u001b[0;36m2\u001b[0m\u001b[0;34m,\u001b[0m \u001b[0;36m2\u001b[0m\u001b[0;34m,\u001b[0m \u001b[0mFalse\u001b[0m\u001b[0;34m)\u001b[0m\u001b[0;34m\u001b[0m\u001b[0m\n\u001b[0m\u001b[1;32m     32\u001b[0m                 \u001b[0mvalues\u001b[0m \u001b[0;34m=\u001b[0m \u001b[0;34m\";\"\u001b[0m\u001b[0;34m.\u001b[0m\u001b[0mjoin\u001b[0m\u001b[0;34m(\u001b[0m\u001b[0mresult\u001b[0m\u001b[0;34m[\u001b[0m\u001b[0;36m1\u001b[0m\u001b[0;34m]\u001b[0m\u001b[0;34m)\u001b[0m\u001b[0;34m\u001b[0m\u001b[0m\n\u001b[1;32m     33\u001b[0m                 \u001b[0mf\u001b[0m\u001b[0;34m.\u001b[0m\u001b[0mwrite\u001b[0m\u001b[0;34m(\u001b[0m\u001b[0mstr\u001b[0m\u001b[0;34m(\u001b[0m\u001b[0mresult\u001b[0m\u001b[0;34m[\u001b[0m\u001b[0;36m0\u001b[0m\u001b[0;34m]\u001b[0m\u001b[0;34m.\u001b[0m\u001b[0mreplace\u001b[0m\u001b[0;34m(\u001b[0m\u001b[0;34m\"_\"\u001b[0m\u001b[0;34m,\u001b[0m \u001b[0;34m\".\"\u001b[0m\u001b[0;34m)\u001b[0m\u001b[0;34m)\u001b[0m \u001b[0;34m+\u001b[0m \u001b[0;34m\" \"\u001b[0m \u001b[0;34m+\u001b[0m \u001b[0mstr\u001b[0m\u001b[0;34m(\u001b[0m\u001b[0mch\u001b[0m\u001b[0;34m.\u001b[0m\u001b[0mitems\u001b[0m\u001b[0;34m(\u001b[0m\u001b[0;34m)\u001b[0m\u001b[0;34m[\u001b[0m\u001b[0;36m0\u001b[0m\u001b[0;34m]\u001b[0m\u001b[0;34m[\u001b[0m\u001b[0;36m1\u001b[0m\u001b[0;34m]\u001b[0m\u001b[0;34m)\u001b[0m \u001b[0;34m+\u001b[0m \u001b[0;34m\" :: \"\u001b[0m \u001b[0;34m+\u001b[0m \u001b[0mvalues\u001b[0m\u001b[0;34m)\u001b[0m\u001b[0;34m\u001b[0m\u001b[0m\n",
        "\u001b[0;32m<ipython-input-27-dbeab17c79b6>\u001b[0m in \u001b[0;36mfind_replacements\u001b[0;34m(sentence, lwindow, rwindow, add)\u001b[0m\n\u001b[1;32m    149\u001b[0m     \u001b[0;31m#print word\u001b[0m\u001b[0;34m\u001b[0m\u001b[0;34m\u001b[0m\u001b[0m\n\u001b[1;32m    150\u001b[0m     \u001b[0;32mtry\u001b[0m\u001b[0;34m:\u001b[0m\u001b[0;34m\u001b[0m\u001b[0m\n\u001b[0;32m--> 151\u001b[0;31m         \u001b[0;32mreturn\u001b[0m \u001b[0mfind_replacements_helper\u001b[0m\u001b[0;34m(\u001b[0m\u001b[0mfinal_list\u001b[0m\u001b[0;34m,\u001b[0m \u001b[0mword\u001b[0m\u001b[0;34m,\u001b[0m \u001b[0mindex\u001b[0m\u001b[0;34m,\u001b[0m \u001b[0mint\u001b[0m\u001b[0;34m(\u001b[0m\u001b[0mlwindow\u001b[0m\u001b[0;34m)\u001b[0m\u001b[0;34m,\u001b[0m \u001b[0mint\u001b[0m\u001b[0;34m(\u001b[0m\u001b[0mrwindow\u001b[0m\u001b[0;34m)\u001b[0m \u001b[0;34m+\u001b[0m \u001b[0;36m1\u001b[0m\u001b[0;34m,\u001b[0m \u001b[0madd\u001b[0m\u001b[0;34m)\u001b[0m\u001b[0;34m\u001b[0m\u001b[0m\n\u001b[0m\u001b[1;32m    152\u001b[0m     \u001b[0;32mexcept\u001b[0m \u001b[0mException\u001b[0m\u001b[0;34m:\u001b[0m\u001b[0;34m\u001b[0m\u001b[0m\n\u001b[1;32m    153\u001b[0m         \u001b[0;32mreturn\u001b[0m \u001b[0;34m\"NONE\"\u001b[0m\u001b[0;34m\u001b[0m\u001b[0m\n",
        "\u001b[0;32m<ipython-input-27-dbeab17c79b6>\u001b[0m in \u001b[0;36mfind_replacements_helper\u001b[0;34m(imp_words, word, index, lwindow, rwindow, add)\u001b[0m\n\u001b[1;32m     74\u001b[0m     \u001b[0mresults\u001b[0m \u001b[0;34m=\u001b[0m \u001b[0;34m{\u001b[0m\u001b[0;34m}\u001b[0m\u001b[0;34m\u001b[0m\u001b[0m\n\u001b[1;32m     75\u001b[0m     \u001b[0;32mprint\u001b[0m \u001b[0mfinal_model\u001b[0m\u001b[0;34m.\u001b[0m\u001b[0mmost_similar\u001b[0m\u001b[0;34m(\u001b[0m\u001b[0mword\u001b[0m\u001b[0;34m,\u001b[0m  \u001b[0mtopn\u001b[0m\u001b[0;34m=\u001b[0m\u001b[0;36m30\u001b[0m\u001b[0;34m)\u001b[0m\u001b[0;34m\u001b[0m\u001b[0m\n\u001b[0;32m---> 76\u001b[0;31m     \u001b[0;32mfor\u001b[0m \u001b[0mreplacement\u001b[0m\u001b[0;34m,\u001b[0m \u001b[0mxx\u001b[0m \u001b[0;32min\u001b[0m \u001b[0mfinal_model\u001b[0m\u001b[0;34m.\u001b[0m\u001b[0mmost_similar\u001b[0m\u001b[0;34m(\u001b[0m\u001b[0mword\u001b[0m\u001b[0;34m,\u001b[0m  \u001b[0mtopn\u001b[0m\u001b[0;34m=\u001b[0m\u001b[0;36m30\u001b[0m\u001b[0;34m)\u001b[0m\u001b[0;34m:\u001b[0m\u001b[0;34m\u001b[0m\u001b[0m\n\u001b[0m\u001b[1;32m     77\u001b[0m             \u001b[0;31m# Ignore itself as a replacement.\u001b[0m\u001b[0;34m\u001b[0m\u001b[0;34m\u001b[0m\u001b[0m\n\u001b[1;32m     78\u001b[0m             \u001b[0;32mif\u001b[0m \u001b[0mreplacement\u001b[0m \u001b[0;32min\u001b[0m \u001b[0mcontext_words\u001b[0m\u001b[0;34m:\u001b[0m\u001b[0;34m\u001b[0m\u001b[0m\n",
        "\u001b[0;32m/Users/bansal/anaconda/lib/python2.7/site-packages/gensim/models/word2vec.pyc\u001b[0m in \u001b[0;36mmost_similar\u001b[0;34m(self, positive, negative, topn)\u001b[0m\n\u001b[1;32m    510\u001b[0m         \u001b[0;32mif\u001b[0m \u001b[0;32mnot\u001b[0m \u001b[0mtopn\u001b[0m\u001b[0;34m:\u001b[0m\u001b[0;34m\u001b[0m\u001b[0m\n\u001b[1;32m    511\u001b[0m             \u001b[0;32mreturn\u001b[0m \u001b[0mdists\u001b[0m\u001b[0;34m\u001b[0m\u001b[0m\n\u001b[0;32m--> 512\u001b[0;31m         \u001b[0mbest\u001b[0m \u001b[0;34m=\u001b[0m \u001b[0margsort\u001b[0m\u001b[0;34m(\u001b[0m\u001b[0mdists\u001b[0m\u001b[0;34m)\u001b[0m\u001b[0;34m[\u001b[0m\u001b[0;34m:\u001b[0m\u001b[0;34m:\u001b[0m\u001b[0;34m-\u001b[0m\u001b[0;36m1\u001b[0m\u001b[0;34m]\u001b[0m\u001b[0;34m[\u001b[0m\u001b[0;34m:\u001b[0m\u001b[0mtopn\u001b[0m \u001b[0;34m+\u001b[0m \u001b[0mlen\u001b[0m\u001b[0;34m(\u001b[0m\u001b[0mall_words\u001b[0m\u001b[0;34m)\u001b[0m\u001b[0;34m]\u001b[0m\u001b[0;34m\u001b[0m\u001b[0m\n\u001b[0m\u001b[1;32m    513\u001b[0m         \u001b[0;31m# ignore (don't return) words from the input\u001b[0m\u001b[0;34m\u001b[0m\u001b[0;34m\u001b[0m\u001b[0m\n\u001b[1;32m    514\u001b[0m         \u001b[0mresult\u001b[0m \u001b[0;34m=\u001b[0m \u001b[0;34m[\u001b[0m\u001b[0;34m(\u001b[0m\u001b[0mself\u001b[0m\u001b[0;34m.\u001b[0m\u001b[0mindex2word\u001b[0m\u001b[0;34m[\u001b[0m\u001b[0msim\u001b[0m\u001b[0;34m]\u001b[0m\u001b[0;34m,\u001b[0m \u001b[0mfloat\u001b[0m\u001b[0;34m(\u001b[0m\u001b[0mdists\u001b[0m\u001b[0;34m[\u001b[0m\u001b[0msim\u001b[0m\u001b[0;34m]\u001b[0m\u001b[0;34m)\u001b[0m\u001b[0;34m)\u001b[0m \u001b[0;32mfor\u001b[0m \u001b[0msim\u001b[0m \u001b[0;32min\u001b[0m \u001b[0mbest\u001b[0m \u001b[0;32mif\u001b[0m \u001b[0msim\u001b[0m \u001b[0;32mnot\u001b[0m \u001b[0;32min\u001b[0m \u001b[0mall_words\u001b[0m\u001b[0;34m]\u001b[0m\u001b[0;34m\u001b[0m\u001b[0m\n",
        "\u001b[0;32m/Users/bansal/anaconda/lib/python2.7/site-packages/numpy/core/fromnumeric.pyc\u001b[0m in \u001b[0;36margsort\u001b[0;34m(a, axis, kind, order)\u001b[0m\n\u001b[1;32m    873\u001b[0m     \u001b[0;32mexcept\u001b[0m \u001b[0mAttributeError\u001b[0m\u001b[0;34m:\u001b[0m\u001b[0;34m\u001b[0m\u001b[0m\n\u001b[1;32m    874\u001b[0m         \u001b[0;32mreturn\u001b[0m \u001b[0m_wrapit\u001b[0m\u001b[0;34m(\u001b[0m\u001b[0ma\u001b[0m\u001b[0;34m,\u001b[0m \u001b[0;34m'argsort'\u001b[0m\u001b[0;34m,\u001b[0m \u001b[0maxis\u001b[0m\u001b[0;34m,\u001b[0m \u001b[0mkind\u001b[0m\u001b[0;34m,\u001b[0m \u001b[0morder\u001b[0m\u001b[0;34m)\u001b[0m\u001b[0;34m\u001b[0m\u001b[0m\n\u001b[0;32m--> 875\u001b[0;31m     \u001b[0;32mreturn\u001b[0m \u001b[0margsort\u001b[0m\u001b[0;34m(\u001b[0m\u001b[0maxis\u001b[0m\u001b[0;34m,\u001b[0m \u001b[0mkind\u001b[0m\u001b[0;34m,\u001b[0m \u001b[0morder\u001b[0m\u001b[0;34m)\u001b[0m\u001b[0;34m\u001b[0m\u001b[0m\n\u001b[0m\u001b[1;32m    876\u001b[0m \u001b[0;34m\u001b[0m\u001b[0m\n\u001b[1;32m    877\u001b[0m \u001b[0;34m\u001b[0m\u001b[0m\n",
        "\u001b[0;31mKeyboardInterrupt\u001b[0m: "
       ]
      }
     ],
     "prompt_number": 28
    },
    {
     "cell_type": "code",
     "collapsed": false,
     "input": [],
     "language": "python",
     "metadata": {},
     "outputs": []
    }
   ],
   "metadata": {}
  }
 ]
}