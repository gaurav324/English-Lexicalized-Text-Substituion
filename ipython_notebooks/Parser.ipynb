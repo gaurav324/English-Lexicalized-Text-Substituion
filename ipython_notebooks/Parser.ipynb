{
 "metadata": {
  "name": ""
 },
 "nbformat": 3,
 "nbformat_minor": 0,
 "worksheets": [
  {
   "cells": [
    {
     "cell_type": "code",
     "collapsed": false,
     "input": [
      "import enchant\n",
      "import re\n",
      "import sys\n",
      "import os\n",
      "import mmap\n",
      "\n",
      "##############################################################\n",
      "# Globals.\n",
      "\n",
      "allowed_pos = ['nn', 'nns', 'vb', 'vbp', 'vbg', 'vbd', 'nnp', 'jj', 'jjr', 'rb', 'n', 'prp$', 'prp', 'wdt']\n",
      "co_occur = {}\n",
      "\n",
      "# Regex to match only words having letters. Filter out numbers, crappy urls etc.\n",
      "regex = re.compile(r'^[a-zA-Z]+$')\n",
      "\n",
      "english_dict = enchant.Dict(\"en_US\")\n",
      "##############################################################\n",
      "# Helper Functions.\n",
      "\n",
      "# Clean the word. \n",
      "def clean(word):\n",
      "    if word.endswith(\".\"):\n",
      "        word = word[:-1]\n",
      "    if (english_dict.check(word)):\n",
      "        return regex.match(word)\n",
      "    else:\n",
      "        return None\n",
      "\n",
      "# Sentence is a collection of the words tagged. Sentence is a list and each word is stored as string.\n",
      "def update_co_occur(sentence):\n",
      "    global co_occur, allowed_pos\n",
      "    sentence = map(lambda x: x.lower(), sentence)\n",
      "    \n",
      "    #print sentence\n",
      "    count = len(sentence)\n",
      "    for i in range(count):\n",
      "        current_word = sentence[i].split(\" \")\n",
      "        \n",
      "        # Clean the current word. If it is not clean, ignore this and proceed.\n",
      "        cleaned = clean(current_word[0])\n",
      "        if not cleaned:\n",
      "            continue\n",
      "        else:\n",
      "            current_word[0] = cleaned.string\n",
      "\n",
      "        # Check the Pos Tag is present in the list of allowed pos_tags.\n",
      "        try:\n",
      "            if current_word[2] not in allowed_pos:\n",
      "                continue\n",
      "        except IndexError, ex:\n",
      "            print \"Error-Location1: \", current_word\n",
      "\n",
      "        # Window size is fixed to be 2. This signifies that find next two words, which have their\n",
      "        # POS tags in the allowed list. If EOS comes first, then don't proceed further.\n",
      "        window = 2; window_t = 0\n",
      "        for j in range(count - i - 1):\n",
      "            if (window_t == window):\n",
      "                break\n",
      "            else:\n",
      "                next_word = sentence[i + j + 1]\n",
      "                if next_word.strip().startswith(\"<doc\"):\n",
      "                    continue\n",
      "                next_word = next_word.split(\" \")\n",
      "\n",
      "                # Clean the next word. If next word is dirty enough, then simply ignore and continue.\n",
      "                cleaned = clean(next_word[0])\n",
      "                if not cleaned:\n",
      "                    continue\n",
      "                else:\n",
      "                    next_word[0] = cleaned.string\n",
      "\n",
      "                try:\n",
      "                    if next_word[2] not in allowed_pos:\n",
      "                        continue\n",
      "                    else:\n",
      "                        # Update count, telling how many words in the window have been included.\n",
      "                        window_t += 1\n",
      "                        \n",
      "                        # Update co-occurance matrix.\n",
      "                        if current_word[0] in co_occur:\n",
      "                            if next_word[0] in co_occur[current_word[0]]:\n",
      "                                co_occur[current_word[0]][next_word[0]] += 1\n",
      "                            else:\n",
      "                                co_occur[current_word[0]] = {next_word[0] : 1}\n",
      "                        else:\n",
      "                            co_occur[current_word[0]] = {next_word[0] : 1}\n",
      "                except IndexError, ex:\n",
      "                    print \"Error-Location2: \", ex\n",
      "\n",
      "##############################################################\n",
      "def dump(prefix):\n",
      "    # Write files.\n",
      "    rows_file = open(str(prefix) + \"_\" + sys.argv[2], \"w\")\n",
      "    cols_file = open(str(prefix) + \"_\" + sys.argv[3], \"w\")\n",
      "    sm_file   = open(str(prefix) + \"_\" + sys.argv[4], \"w\")\n",
      "    \n",
      "    cols = {}\n",
      "    for x in sorted(co_occur):\n",
      "        for y in sorted(co_occur[x]):\n",
      "            cols[y] = True\n",
      "            sm_file.write(str(x) + \"\\t\" + str(y) + \"\\t\" + str(co_occur[x][y]) + \"\\n\")\n",
      "    \n",
      "    sm_file.close()\n",
      "    rows_file.write(\"\\n\".join(sorted(co_occur.keys())))\n",
      "    cols_file.write(\"\\n\".join(sorted(cols.keys())))\n",
      "    \n",
      "    rows_file.close()\n",
      "    cols_file.close()\n",
      "    sm_file.close()\n",
      "\n",
      "##############################################################\n",
      "# This is where main action starts.\n"
     ],
     "language": "python",
     "metadata": {},
     "outputs": [],
     "prompt_number": 27
    },
    {
     "cell_type": "code",
     "collapsed": false,
     "input": [
      "import nltk"
     ],
     "language": "python",
     "metadata": {},
     "outputs": [],
     "prompt_number": 2
    },
    {
     "cell_type": "code",
     "collapsed": false,
     "input": [
      "from nltk import wordnet"
     ],
     "language": "python",
     "metadata": {},
     "outputs": [],
     "prompt_number": 4
    },
    {
     "cell_type": "code",
     "collapsed": false,
     "input": [
      "import enchant\n",
      "d = enchant.Dict(\"en_US\")"
     ],
     "language": "python",
     "metadata": {},
     "outputs": [],
     "prompt_number": 23
    },
    {
     "cell_type": "code",
     "collapsed": false,
     "input": [
      "d.check('\u2248\u00e7\u00df')"
     ],
     "language": "python",
     "metadata": {},
     "outputs": [
      {
       "metadata": {},
       "output_type": "pyout",
       "prompt_number": 40,
       "text": [
        "False"
       ]
      }
     ],
     "prompt_number": 40
    },
    {
     "cell_type": "code",
     "collapsed": false,
     "input": [
      "clean('ciat')"
     ],
     "language": "python",
     "metadata": {},
     "outputs": [],
     "prompt_number": 44
    },
    {
     "cell_type": "code",
     "collapsed": false,
     "input": [],
     "language": "python",
     "metadata": {},
     "outputs": []
    }
   ],
   "metadata": {}
  }
 ]
}