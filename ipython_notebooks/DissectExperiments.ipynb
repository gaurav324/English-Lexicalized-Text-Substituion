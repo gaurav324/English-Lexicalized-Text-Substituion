{
 "metadata": {
  "name": ""
 },
 "nbformat": 3,
 "nbformat_minor": 0,
 "worksheets": [
  {
   "cells": [
    {
     "cell_type": "code",
     "collapsed": false,
     "input": [
      "from composes.semantic_space.space import Space\n",
      "from composes.transformation.scaling.ppmi_weighting import PpmiWeighting\n",
      "from composes.transformation.dim_reduction.svd import Svd\n",
      "from composes.transformation.feature_selection.top_feature_selection import TopFeatureSelection\n",
      "from composes.similarity.cos import CosSimilarity\n",
      "from composes.utils import io_utils\n",
      "from composes.utils import log_utils\n",
      "\n",
      "import sys\n",
      "\n",
      "# set constants\n",
      "sys.argv[0] = \"/Users/gnanda/nlp/final_project/English-Lexicalized-Text-Substituion\"\n",
      "sys.argv[1] = \"105\"\n",
      "\n",
      "data_path = sys.argv[0] + \"/\" + sys.argv[1] + \"_\"\n",
      "\n",
      "log_file = data_path + \"all.log\"\n",
      "core_cooccurrence_file = data_path + \"GemmaData_sm\"\n",
      "core_row_file = data_path + \"GemmaData_rows\"\n",
      "core_col_file = data_path + \"GemmaData_cols\"\n",
      "core_space_file = data_path + \"core.pkl\"\n",
      "\n",
      "# config log file\n",
      "log_utils.config_logging(log_file)\n",
      "\n",
      "print \"Building semantic space from co-occurrence counts\"\n",
      "core_space = Space.build(data=core_cooccurrence_file, rows=core_row_file,\n",
      "                         cols=core_col_file, format=\"sm\")\n",
      "\n",
      "\n"
     ],
     "language": "python",
     "metadata": {},
     "outputs": [],
     "prompt_number": "*"
    },
    {
     "cell_type": "code",
     "collapsed": false,
     "input": [
      "print \"Applying ppmi weighting\"\n",
      "core_space = core_space.apply(PpmiWeighting())\n"
     ],
     "language": "python",
     "metadata": {},
     "outputs": [
      {
       "output_type": "stream",
       "stream": "stdout",
       "text": [
        "Applying ppmi weighting\n"
       ]
      }
     ],
     "prompt_number": 2
    },
    {
     "cell_type": "code",
     "collapsed": false,
     "input": [
      "print \"Applying feature selection\"\n",
      "core_space = core_space.apply(TopFeatureSelection(5000))\n"
     ],
     "language": "python",
     "metadata": {},
     "outputs": [
      {
       "output_type": "stream",
       "stream": "stdout",
       "text": [
        "Applying feature selection\n"
       ]
      }
     ],
     "prompt_number": 3
    },
    {
     "cell_type": "code",
     "collapsed": false,
     "input": [
      "print \"Applying svd 500\"\n",
      "core_space = core_space.apply(Svd(500))\n"
     ],
     "language": "python",
     "metadata": {},
     "outputs": [],
     "prompt_number": "*"
    },
    {
     "cell_type": "code",
     "collapsed": false,
     "input": [
      "print \"Saving the semantic space\"\n",
      "io_utils.save(core_space, core_space_file)"
     ],
     "language": "python",
     "metadata": {},
     "outputs": [],
     "prompt_number": "*"
    },
    {
     "cell_type": "code",
     "collapsed": false,
     "input": [
      "core_space.get_neighbours(\"bright\", 10, CosSimilarity())"
     ],
     "language": "python",
     "metadata": {},
     "outputs": [],
     "prompt_number": "*"
    },
    {
     "cell_type": "code",
     "collapsed": false,
     "input": [],
     "language": "python",
     "metadata": {},
     "outputs": []
    }
   ],
   "metadata": {}
  }
 ]
}